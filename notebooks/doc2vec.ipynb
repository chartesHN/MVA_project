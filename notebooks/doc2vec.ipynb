{
 "cells": [
  {
   "cell_type": "code",
   "execution_count": 1,
   "metadata": {
    "collapsed": false,
    "jupyter": {
     "outputs_hidden": false
    }
   },
   "outputs": [],
   "source": [
    "%matplotlib inline"
   ]
  },
  {
   "cell_type": "markdown",
   "metadata": {},
   "source": [
    "\n",
    "Doc2Vec Model\n",
    "=============\n",
    "\n",
    "Tuto : https://radimrehurek.com/gensim/auto_examples/tutorials/run_doc2vec_lee.html\n",
    "\n",
    "\n"
   ]
  },
  {
   "cell_type": "code",
   "execution_count": 2,
   "metadata": {
    "collapsed": false,
    "jupyter": {
     "outputs_hidden": false
    }
   },
   "outputs": [
    {
     "name": "stderr",
     "output_type": "stream",
     "text": [
      "C:\\Users\\verny\\anaconda3\\lib\\site-packages\\gensim\\similarities\\__init__.py:15: UserWarning: The gensim.similarities.levenshtein submodule is disabled, because the optional Levenshtein package <https://pypi.org/project/python-Levenshtein/> is unavailable. Install Levenhstein (e.g. `pip install python-Levenshtein`) to suppress this warning.\n",
      "  warnings.warn(msg)\n"
     ]
    }
   ],
   "source": [
    "import os\n",
    "import gensim"
   ]
  },
  {
   "cell_type": "code",
   "execution_count": 3,
   "metadata": {
    "collapsed": false,
    "jupyter": {
     "outputs_hidden": false
    }
   },
   "outputs": [],
   "source": [
    "from nltk.tokenize import word_tokenize\n",
    "\n",
    "def read_corpus(directory, tokens_only=False):\n",
    "    for filename in os.listdir(directory):\n",
    "        with open(os.path.join(directory,filename), encoding=\"utf8\") as f:\n",
    "            for i, line in enumerate(f):\n",
    "                tokens = word_tokenize(line, language=\"french\")\n",
    "                if tokens_only:\n",
    "                    yield tokens\n",
    "                else:\n",
    "                    # For training data, add tags\n",
    "                    yield gensim.models.doc2vec.TaggedDocument(tokens, [i])"
   ]
  },
  {
   "cell_type": "code",
   "execution_count": 5,
   "metadata": {},
   "outputs": [],
   "source": [
    "dir_path_train = os.path.join(os.path.dirname(os.path.realpath(\"../D2V_corpus/train\")),\"train\")\n",
    "dir_path_test = os.path.join(os.path.dirname(os.path.realpath(\"../D2V_corpus/test\")),\"test\")\n",
    "\n",
    "train_corpus = list(read_corpus(dir_path_train))\n",
    "test_corpus = list(read_corpus(dir_path_test, tokens_only = True))"
   ]
  },
  {
   "cell_type": "code",
   "execution_count": 6,
   "metadata": {
    "scrolled": true
   },
   "outputs": [
    {
     "name": "stdout",
     "output_type": "stream",
     "text": [
      "TaggedDocument(['avant-propo', 'c', '’', 'être', 'à', 'vous', 'que', 'je', 'dédie', 'ce', 'livre', 'jeune', 'fille', 'qui', 'le', 'lire', 'ce', 'livre', 'fruit', 'de', 'mon', 'expérience', 'et', 'dans', 'lequel', 'je', 'me', 'suivre', 'efforcée', 'de', 'vous', 'peindre', 'le', 'vie', 'non', 'tel', 'que', 'vous', 'le', 'montre', 'votre', 'joyeux', 'imagination', 'qui', 'ne', 'le', 'sème', 'que', 'de', 'fleur', 'et', 'de', 'plaisir', 'mais', 'tel', 'qu', '’', 'lui', 'être', 'réellement', 'c', '’', 'être', '-', 'à-dir', 'remplie', 'de', 'devoir', 'sérieux', 'et', 'mêlée', 'de', 'pensée', 'grave', 'et', 'austère', 'avoir', 'vous', 'qui', 'êtes', 'assez', 'heureux', 'pour', 'vous', 'élever', 'sous', 'le', 'direction', 'sage', 'et', 'prudent', 'de', 'votre', 'mère', 'et', 'qui', 'de', 'suivre', 'son', 'conseil', 'à', 'vous', 'aussi', 'pauvre', 'enfant', 'que', 'le', 'ciel', 'avoir', 'privéer', 'de', 'ce', 'protection', 'saint', 'je', 'venir', 'vous', 'dire', 'déraciner', 'de', 'votre', 'cœur', 'tout', 'ce', 'défaut', 'légers', 'en', 'apparence', 'que', 'le', 'monde', 'loue', 'parce', 'qu', '’', 'il', 's', '’', 'en', 'amuse', 'et', 'qui', 'ne', 'pouvoir', 'vous', 'conduire', 'qu', '’', 'à', 'le', 'douleur', 'et', 'à', 'regret', 'et', 'en', 'cela', 'je', 'vous', 'parle', 'de', 'le', 'coquetterie', 'qu', '’', 'il', 'nomme', 'élégance', 'de', 'le', 'médisance', 'qu', '’', 'il', 'appeler', 'moquerie', 'de', 'le', 'paresse', 'qu', '’', 'il', 'dire', 'nonchalance', 'de', 'désordre', 'de', 'l', '’', 'exaltation', 'qu', '’', 'il', 'qualifier', 'd', '’', 'enthousiasme', 'de', 'ce', 'nuage', 'enfin', 'qui', 'obscurcir', 'votre', 'beau', 'ciel', 'et', 'qui', 'devoir', 'y', 'attirer', 'le', 'foudre', 'je', 'me', 'suivre', 'efforcée', 'de', 'vous', 'faire', 'bien', 'voir', 'combien', 'un', 'seul', 'mauvais', 'habitude', 'déteint', 'sur', 'tout', 'un', 'brillant', 'éducation', 'c', '’', 'être', 'le', 'goutte', 'd', '’', 'encre', 'tombée', 'dans', 'le', 'verre', 'd', '’', 'eau', 'limpide', 'et', 'pour', 'cela', 'je', 'vous', 'avoir', 'raconté', 'quelque', 'histoire', 'prendre', 'non', 'dans', 'mon', 'imagination', 'mais', 'dans', 'mon', 'souvenir', 'tout', 'le', 'jeune', 'fille', 'que', 'je', 'vous', 'y', 'montre', 'je', 'le', 'avoir', 'connaître', 'lui', 'avoir', 'souffrir', 'par', 'leur', 'faute', 'ce', 'mal', 'cruel', 'dont', 'je', 'n', '’', 'avoir', 'pouvoir', 'vous', 'dépeindr', 'que', 'le', 'moindre', 'partie', 'et', 'dont', 'je', 'vous', 'avoir', 'épargné', 'le', 'circonstance', 'le', 'plus', 'pénible', 'pour', 'ne', 'pas', 'attrister', 'votre', 'imagination', 'par', 'un', 'peinture', 'qui', 's', '’', 'adresser', 'à', 'votre', 'raison', 'avoir', 'notre', 'époque', 'surtout', 'c', '’', 'être', 'un', 'devoir', 'de', 'vous', 'apprendre', 'le', 'vie', 'tel', 'qu', '’', 'lui', 'devoir', 'être', 'de', 'vous', 'donner', 'le', 'main', 'pour', 'vous', 'faire', 'traverser', 'le', 'passage', 'délicat', 'qui', 'sépare', 'le', 'jeune', 'fille', 'de', 'le', 'mère', 'de', 'famille', 'parce', 'qu', '’', 'à', 'ce', 'époque', 'le', 'religion', 'le', 'famille', 'le', 'société', 'être', 'attaquées', 'et', 'que', 'le', 'femme', 'être', 'un', 'de', 'apôtre', 'que', 'dieu', 'avoir', 'destinés', 'à', 'défendre', 'ce', 'saint', 'loi', 'c', '’', 'être', 'par', 'leur', 'sagesse', 'et', 'leur', 'prudence', 'qu', '’', 'lui', 'pouvoir', 'étayer', 'soutenir', 'et', 'réparer', 'le', 'grand', 'édifice', 'social', 'que', 'l', '’', 'on', 'ébranl', 'car', 'par', 'leur', 'exemple', 'et', 'le', 'bonheur', 'qu', '’', 'lui', 'répandent', 'autour', 'd', '’', 'lui', 'le', 'femme', 'bon', 'et', 'sage', 'réformer', 'leur', 'famille', 'le', 'famille', 'réformeront', 'leur', 'province', 'et', 'le', 'province', 'réformer', 'le', 'monde', 'nous', 'devoir', 'donc', 'vaillamment', 'combattre', 'pour', 'ce', 'noble', 'cause', 'non', 'dans', 'le', 'lutte', 'politique', 'le', 'tribune', 'n', '’', 'être', 'pas', 'le', 'champ', 'de', 'bataille', 'de', 'femme', 'mais', 'en', 'montrer', 'à', 'tout', 'que', 'le', 'bonheur', 'ne', 'se', 'trouve', 'que', 'dans', 'le', 'saint', 'devoir', 'de', 'le', 'famille', 'dans', 'le', 'doux', 'joie', 'de', 'foyer', 'domestique', 'c', '’', 'être', 'je', 'vous', 'le', 'jeune', 'fille', 'l', '’', 'unique', 'mission', 'que', 'dieu', 'donne', 'à', 'le', 'femme', 'mission', 'plus', 'facile', 'et', 'non', 'moins', 'grand', 'que', 'celui', 'qu', '’', 'il', 'avoir', 'donnée', 'jadis', 'à', 'son', 'apôtre', 'pour', 'le', 'bien', 'remplir', 'il', 'falloir', 'qu', '’', 'lui', 'veille', 'avec', 'attention', 'et', 'amour', 'sur', 'le', 'jour', 'et', 'le', 'cœur', 'de', 'son', 'enfant', 'qu', '’', 'lui', 'apporte', 'le', 'respect', 'à', 'son', 'parent', 'à', 'son', 'mari', 'le', 'bien', '-', 'être', 'et', 'le', 'bonheur', 'enfin', 'qu', '’', 'lui', 'soit', 'dans', 'son', 'ménage', 'le', 'chanson', 'le', 'sourire', 'le', 'consolation', 'et', 'l', '’', 'espérance', 'voilà', 'son', 'mission', 'modeste', 'et', 'simple', 'voilà', 'son', 'tâche', 'chrétienn', 'voilà', 'son', 'unique', 'apostolat', 'l', '’', 'esperance', 'et', 'le', 'réalité', '.', 'première', 'partie', 'rêverie', 'et', 'projet', 'mois', 'de', 'mai', 'mois', 'de', 'fleur', 'vien', 'rendre', 'à', 'l', '’', 'aubépine', 'son', 'bouquet', 'odorant', 'o', 'rire', 'mois', 'de', 'mai', 'venir', 'rendre', 'à', 'l', '’', 'aubépine', 'le', 'couronne', 'argentin', 'de', 'son', 'rameau', 'blanc', 'le', 'premier', 'rayon', 'de', 'soleil', 'de', 'mai', 'frapper', 'sur', 'un', 'bel', 'et', 'vert', 'clairière', 'former', 'comme', 'un', 'rendez-vous', 'de', 'chasse', 'au', 'milieu', 'd', '’', 'un', 'immense', 'parc', 'dépendance', 'de', 'château', 'de', 'magnifique', 'propriété', 'avoir', 'gardé', 'tout', 'son', 'apparence', 'féodaler', 'au', 'grand', 'ébahissement', 'de', 'touriste', 'qui', 'parcourir', 'en', 'curieux', 'le', 'site', 'grandiose', 'et', 'presque', 'magique', 'de', 'bas-poitou', 'un', 'centaine', 'de', 'vieux', 'chêne', 'au', 'tronc', 'peu', 'élevé', 'étendaient', 'leur', 'rameau', 'nouveau', 'et', 'touffu', 'sur', 'un', 'pelouse', 'délicieus', 'en', 'quelque', 'endroit', 'il', 'étaier', 'mêlés', 'de', 'bouleau', 'de', 'houx', 'et', 'de', 'bois', 'de', 'taillis', 'de', 'tout', 'espèce', 'dont', 'le', 'branche', 's', '’', 'entrelaçaient', 'de', 'manière', 'à', 'former', 'un', 'grotte', 'de', 'verdure', 'puisqu', '’', 'lui', 'parvenir', 'à', 'intercepter', 'entièrement', 'tout', 'rayon', 'de', 'soleil', 'ailleurs', 'ce', 'arbre', 's', '’', 'écartaient', 'le', 'un', 'de', 'autre', 'former', 'de', 'long', 'avenue', 'dans', 'le', 'détour', 'desquelle', 'le', 'vue', 'aime', 'à', 's', '’', 'égarer', 'un', 'bel', 'pièce', 'd', '’', 'eau', 'où', 'nager', 'un', 'cygne', 'd', '’', 'un', 'blancheur', 'éblouissant', 'occuper', 'le', 'milieu', 'de', 'ce', 'promenade', 'délicieus', 'dont', 'lui', 'sembler', 'compléter', 'le', 'charme', 'rêveur', 'et', 'l', '’', 'isolement', 'jolie', 'jeune', 'fille', 'faire', 'partie', 'tout', 'en', 'l', '’', 'embellir', 'encore', 'de', 'ce', 'paysage', 'enchanteur', 'tout', 'le', 'cheveu', 'flotter', 'au', 'vent', 'enveloppées', 'dans', 'un', 'simple', 'robe', 'de', 'matin', 'laisser', 'deviner', 'que', 'leur', 'premièr', 'occupation', 'avoir', 'été', 'de', 'venir', 'respirer', 'en', 'liberté', 'l', '’', 'air', 'pur', 'et', 'balsamique', 'que', 'le', 'lever', 'de', 'jour', 'répand', 'sur', 'le', 'nature', 'un', 'petit', 'ombrelle', 'qu', '’', 'lui', 'avoir', 'emportée', 'sans', 'doute', 'pour', 'le', 'préserver', 'de', 'soleil', 'ne', 'leur', 'sembler', 'jusque', 'là', 'nécessair', 'que', 'pour', 'leur', 'servir', 'de', 'canne', 'afin', 'de', 'leur', 'permettre', 'de', 'se', 'soutenir', 'presque', 'en', 'équilibre', 'sur', 'le', 'pointe', 'de', 'leur', 'pied', 'mignon', 'exercice', 'indispensable', 'pour', 'éviter', 'autant', 'que', 'cela', 'éter', 'en', 'leur', 'pouvoir', 'l', '’', 'humidité', 'que', 'le', 'rosée', 'avoir', 'faire', 'tomber', 'en', 'nappe', 'aussi', 'brillant', 'qu', '’', 'un', 'rivière', 'de', 'diamant', 'sur', 'le', 'gazon', 'où', 'lui', 'devoir', 'marcher', 'éliane', 'eliane', 'tu', 'aller', 'trop', 'vite', 'dire', 'en', 's', '’', 'arrêter', 'tout', 'à', 'coup', 'un', 'de', 'notre', 'charmante', 'promeneuse', 'et', 'en', 'mettre', 'un', 'main', 'sur', 'son', 'cœur', 'comme', 'pour', 'en', 'modérer', 'le', 'battement', 'précipité', 'qu', '’', 'un', 'marche', 'forcé', 'venir', 'd', '’', 'entraîner', 'avec', 'lui', 'aller', 'aller', 'un', 'peu', 'de', 'courage', 'je', 't', '’', 'en', 'conjure', 'fermina', 'd', '’', 'ici', 'à', 'quelque', 'instant', 'nous', 'être', 'arrivéer', 'à', 'mon', 'thébaïde', 'et', 'un', 'fois', 'là', 'nous'], [0])\n"
     ]
    }
   ],
   "source": [
    "print(train_corpus[0])"
   ]
  },
  {
   "cell_type": "code",
   "execution_count": 7,
   "metadata": {
    "collapsed": false,
    "jupyter": {
     "outputs_hidden": false
    },
    "scrolled": true
   },
   "outputs": [
    {
     "name": "stdout",
     "output_type": "stream",
     "text": [
      "['avant-propo', 'nous', 'connaître', 'un', 'homme', 'qui', 'au', 'milieu', 'de', 'le', 'fièvre', 'de', 'changement', 'et', 'd', '’', 'ambition', 'qui', 'travaille', 'notre', 'société', 'avoir', 'continué', 'd', '’', 'accepter', 'sans', 'révolte', 'son', 'humble', 'rôle', 'dans', 'le', 'monde', 'et', 'avoir', 'conservé', 'pour', 'ainsi', 'dire', 'le', 'goût', 'de', 'le', 'pauvreté', '.', 'sans', 'autre', 'fortune', 'qu', '’', 'un', 'petit', 'place', 'dont', 'il', 'voir', 'sur', 'ce', 'étroite', 'limite', 'qui', 'séparent', 'l', '’', 'aisance', 'de', 'le', 'misère', 'notre', 'philosophe', 'regarde', 'de', 'haut', 'de', 'son', 'mansarde', 'le', 'société', 'comme', 'un', 'mer', 'dont', 'il', 'ne', 'souhaite', 'point', 'le', 'richesse', 'et', 'dont', 'il', 'ne', 'craindre', 'pas', 'le', 'naufrage', 'tenir', 'trop', 'peu', 'de', 'place', 'pour', 'exciter', 'l', '’', 'envie', 'de', 'personne', 'il', 'dormir', 'tranquillement', 'enveloppé', 'dans', 'son', 'obscurité', '.', 'non', 'qu', '’', 'il', 'se', 'être', 'retiré', 'dans', 'l', '’', 'égoïsme', 'comme', 'le', 'tortue', 'dans', 'son', 'curasse', 'c', '’', 'être', 'l', '’', 'homme', 'de', 'térence', 'qui', 'ne', '«', 'se', 'croire', 'étranger', 'à', 'rien', 'de', 'ce', 'qui', 'être', 'humain', 'tout', 'le', 'objet', 'et', 'tout', 'le', 'incident', 'de', 'dehors', 'se', 'réfléchisser', 'en', 'lui', 'ainsi', 'que', 'dans', 'un', 'chambre', 'obscur', 'où', 'il', 'décalquer', 'leur', 'image', 'il', '«', 'regarde', 'le', 'société', 'en', 'lui', '-', 'même', 'avec', 'le', 'patience', 'curieux', 'de', 'solitaire', 'et', 'il', 'écrit', 'pour', 'chaque', 'mois', 'le', 'journal', 'de', 'ce', 'qu', '’', 'il', 'avoir', 'voir', 'ou', 'pensé', '.', 'c', '’', 'être', 'le', 'calendrier', 'de', 'son', 'sensation', 'ainsi', 'qu', '’', 'il', 'avoir', 'coutume', 'de', 'le', 'dire', 'admettre', 'à', 'le', 'feuilleter', 'nous', 'en', 'avoir', 'détaché', 'quelque', 'page', 'qui', 'pouvoir', 'faire', 'connaitre', 'au', 'lecteur', 'le', 'vulgaire', 'aventure', 'd', '’', 'un', 'penseur', 'ignoré', 'dans', 'ce', 'hôtellerie', 'de', 'temps', 'qu', '’', 'on', 'appeler', 'un', 'mois', 'chapitre', 'premier', 'le', 'étrenne', 'de', 'le', 'mansarde', 'premier', 'janvier', 'ce', 'date', 'me', 'venir', 'à', 'le', 'pensée', 'dès', 'que', 'je', 'm', '’', 'éveille', 'encore', 'un', 'année', 'qui', 's', '’', 'être', 'détachée', 'de', 'le', 'chaîne', 'de', 'âge', 'pour', 'tomber', 'dans', 'l', '’', 'abîme', 'de', 'passé', 'le', 'foule', 's', '’', 'empresse', 'de', 'fêter', 'son', 'jeune', 'sœur', 'mais', 'tandis', 'que', 'tout', 'le', 'regard', 'se', 'porter', 'en', 'avant', 'le', 'mien', 'se', 'retourner', 'en', 'arrière', 'on', 'sourire', 'à', 'le', 'nouveau', 'reine', 'et', 'malgré', 'moi', 'je', 'songer', 'à', 'celui', 'que', 'le', 'temps', 'venir', 'd', '’', 'envelopper', 'dans', 'son', 'linceul', 'celui-ci', 'de', 'moins', 'je', 'savoir', 'ce', 'qu', '’', 'lui', 'éter', 'et', 'ce', 'qu', '’', 'lui', 'm', '’', 'avoir', 'donné', 'tandis', 'que', 'l', '’', 'autre', 'se', 'présente', 'entourée', 'de', 'tout', 'le', 'menace', 'de', 'l', '’', 'inconnu', 'que', 'cache-t-ell', 'dans', 'le', 'nuées', 'qui', 'l', '’', 'envelopper', 'être', 'ce', 'l', '’', 'orage', 'ou', 'le', 'soleil', 'provisoirement', 'il', 'pleuvoir', 'et', 'je', 'sentir', 'mon', 'âm', 'embrumée', 'comme', 'l', '’', 'horizon', 'j', '’', 'avoir', 'congé', 'aujourd', '’', 'hui', 'mais', 'que', 'faire', 'd', '’', 'un', 'journée', 'de', 'pluie', 'je', 'parcourir', 'mon', 'mansarde', 'avec', 'humeur', 'et', 'je', 'me', 'décide', 'à', 'allumer', 'mon', 'feu', 'malheureusement', 'le', 'allumette', 'prendre', 'mal', 'le', 'cheminée', 'fume', 'le', 'bois', 's', '’', 'éteint', 'je', 'jeter', 'là', 'mon', 'soufflet', 'avec', 'dépit', 'et', 'je', 'me', 'laisse', 'tomber', 'dans', 'mon', 'vieux', 'fauteuil', 'en', 'définitiv', 'pourquoi', 'me', 'réjouirais', 'je', 'de', 'voir', 'naître', 'un', 'nouveau', 'année', 'tout', 'celui', 'qui', 'courir', 'déjà', 'le', 'rue', 'l', '’', 'air', 'endimanché', 'et', 'le', 'sourire', 'sur', 'le', 'lèvre', 'comprendre', 'il', 'ce', 'qui', 'le', 'rendre', 'joyeux', 'savoir', 'il', 'seulement', 'ce', 'que', 'signifier', 'ce', 'fête', 'et', 'd', '�', '�', '�', 'venir', 'l', '’', 'usage', 'de', 'étrenne', 'ici', 'mon', 'esprit', 's', '’', 'arrête', 'pour', 'se', 'constater', 'à', 'lui', 'même', 'son', 'supériorité', 'sur', 'l', '’', 'esprit', 'de', 'vulgaire', 'j', '’', 'ouvrir', 'un', 'parenthèse', 'dans', 'mon', 'mauvais', 'humeur', 'en', 'faveur', 'de', 'mon', 'vanité', 'et', 'je', 'réunis', 'tout', 'le', 'preuve', 'de', 'mon', 'science', 'le', 'premier', 'romain', 'ne', 'partager', 'l', '’', 'année', 'qu', '’', 'en', 'mois', 'ce', 'être', 'numa', 'pompilius', 'qui', 'y', 'ajouter', 'janvier', 'et', 'février', 'le', 'premier', 'lire', 'son', 'nom', 'de', 'janus', 'auquel', 'il', 'être', 'consacré', '.', 'comme', 'il', 'ouvrir', 'le', 'nouveau', 'an', 'on', 'entourer', 'son', 'commencement', 'd', '’', 'heureux', 'présage', 'et', 'de', 'là', 'venir', 'le', 'coutume', 'de', 'visite', 'entre', 'voisin', 'un', 'souhait', 'de', 'prospérité', 'et', 'un', 'étrenne', 'le', 'présent', 'usité', 'chez', 'le', 'romain', 'étaier', 'symbolique', 'on', 'offrir', 'un', 'figue', 'sèche', 'un', 'datte', 'un', 'rayon', 'de', 'miel', 'comme', 'emblème', 'de', 'le', 'douceur', 'de', 'auspice', 'sous', 'lequel', 'l', '’', 'année', 'devoir', 'commencer', 'son', 'cours', 'et', 'un', 'petit', 'pièce', 'de', 'monnaie', 'nommée', 'stip', 'qui', 'présageer', 'le', 'richesse', 'ici', 'je', 'ferme', 'le', 'parenthèse', 'pour', 'reprendre', 'mon', 'disposition', 'maussade', 'le', 'petit', 'spitch', 'que', 'je', 'venir', 'de', 'm', '’', 'adresser', 'm', '’', 'avoir', 'rendre', 'content', 'de', 'moi', 'et', 'plus', 'mécontent', 'un', 'autre', 'je', 'déjeuner', 'bien', 'pour', 'me', 'distraire', 'mais', 'le', 'portière', 'avoir', 'oublié', 'mon', 'lait', 'de', 'matin', 'et', 'le', 'pot', 'de', 'confiture', 'être', 'vide', 'un', 'autre', 'être', 'contrarié', 'moi', 'j', '’', 'affecte', 'le', 'plus', 'superbe', 'indifférence', 'il', 'reste', 'un', 'croûton', 'durcir', 'que', 'je', 'brise', 'à', 'force', 'de', 'poignet', 'et', 'que', 'je', 'grignote', 'nonchalamment', 'comme', 'un', 'homme', 'bien', 'au-dessus', 'de', 'vanité', 'de', 'monde', 'et', 'de', 'pain', 'mollet', 'cependant', 'je', 'ne', 'savoir', 'pourquoi', 'mon', 'idée', 's', '’', 'assombrir', 'en', 'raison', 'de', 'difficulté', 'de', 'le', 'mastication', 'j', '’', 'avoir', 'lire', 'autrefois', 'l', '’', 'histoire', 'd', '’', 'un', 'anglais', 'qui', 's', '’', 'était', 'pendre', 'parce', 'qu', '’', 'on', 'lui', 'avoir', 'servir', 'de', 'thé', 'sans', 'sucre', 'il', 'y', 'avoir', 'un', 'heure', 'dans', 'le', 'vie', 'où', 'le', 'contrariété', 'le', 'plus', 'futile', 'prendre', 'le', 'proportion', 'd', '’', 'un', 'catastrophe', 'notre', 'humeur', 'ressemble', 'à', 'lunette', 'de', 'spectacle', 'qui', 'selon', 'le', 'bout', 'montrer', 'le', 'objet', 'moindre', 'ou', 'agrandi', 'habituellement', 'le', 'perspective', 'qui', 's', '’', 'ouvrir', 'devant', 'mon', 'fenêtre', 'me', 'ravir', 'c', '’', 'être', 'un', 'chevauchement', 'de', 'toit', 'dont', 'le', 'cime', 's', '’', 'entrelacer', 'se', 'croiser', 'se', 'superposer', 'et', 'sur', 'lequel', 'de', 'haut', 'dresser', 'leur', 'piton', 'hier', 'encore', 'je', 'leur', 'trouver', 'un', 'aspect', 'alpestre', 'et', 'j', '’', 'attendre', 'le', 'premièr', 'neige', 'pour', 'y', 'voir', 'un', 'glacier', 'aujourd', '’', 'hui', 'je', 'n', '’', 'aperçois', 'que', 'un', 'tuile', 'et', 'de', 'tuyau', 'de', 'poêle', 'le', 'pigeon', 'qui', 'aider', 'à', 'mon', 'illusion', 'agreste', 'ne', 'me', 'sembler', 'plus', 'que', 'de', 'misérable', 'volatil', 'qui', 'avoir', 'prendre', 'le', 'toit', 'pour', 'basse-cour', 'le', 'fumée', 'qui', 's', '’', 'élève', 'en', 'léger', 'flocon', 'au', 'lieu', 'de', 'me', 'faire', 'songer', 'à', 'soupirail', 'de', 'vésuve', 'me', 'rappeler', 'le', 'préparation', 'culinaire', 'et', 'l', '’', 'eau', 'de', 'vaisselle', 'enfin', 'le', 'télégraphe', 'que', 'j', '’', 'aperçois', 'de', 'loin', 'sur', 'le', 'vieux', 'tour', 'de', 'montmartre', 'me', 'faire', 'l', '’', 'effet', 'd', '’', 'un', 'ignoble', 'potence', 'dont', 'le', 'bras', 'se', 'dresse', 'au-dessus', 'de', 'le', 'cité', '.', 'ainsi', 'blessé', 'de', 'tout', 'ce', 'qu', '’', 'il', 'rencontrer', 'mon', 'regard', 's', '’', 'abaisser', 'sur', 'l', '’', 'hôtel', 'qui', 'faire', 'face', 'à', 'mon', 'mansarde', 'l', '’', 'influence', 'de', 'premier', 'de', 'l', '’', 'an', 's', '’', 'y', 'faire', 'visiblement', 'sentir', 'le', 'domestique', 'avoir', 'un', 'air', 'd', '’']\n"
     ]
    }
   ],
   "source": [
    "print(test_corpus[0])"
   ]
  },
  {
   "cell_type": "markdown",
   "metadata": {},
   "source": [
    "Training the Model\n",
    "------------------"
   ]
  },
  {
   "cell_type": "code",
   "execution_count": 8,
   "metadata": {
    "collapsed": false,
    "jupyter": {
     "outputs_hidden": false
    }
   },
   "outputs": [],
   "source": [
    "model = gensim.models.doc2vec.Doc2Vec(vector_size=50, min_count=2, epochs=40)"
   ]
  },
  {
   "cell_type": "code",
   "execution_count": 9,
   "metadata": {
    "collapsed": false,
    "jupyter": {
     "outputs_hidden": false
    }
   },
   "outputs": [],
   "source": [
    "model.build_vocab(train_corpus)"
   ]
  },
  {
   "cell_type": "code",
   "execution_count": 10,
   "metadata": {
    "collapsed": false,
    "jupyter": {
     "outputs_hidden": false
    }
   },
   "outputs": [],
   "source": [
    "model.train(train_corpus, total_examples=model.corpus_count, epochs=model.epochs)"
   ]
  },
  {
   "cell_type": "markdown",
   "metadata": {},
   "source": [
    "Testing the Model\n",
    "-----------------"
   ]
  },
  {
   "cell_type": "code",
   "execution_count": 34,
   "metadata": {
    "collapsed": false,
    "jupyter": {
     "outputs_hidden": false
    },
    "scrolled": true
   },
   "outputs": [
    {
     "name": "stdout",
     "output_type": "stream",
     "text": [
      "Test Document (480): «monsieur mm de staël avoir un grand et immense talent mais qui ne s ’ élève pas jusqu ’ au génie quelque chose de lourd mais de fort d ’ épai mais de puissant pèse à son pied quand lui vouloir quitter le terre il y avoir d ’ lui à jean-jacque son maître le différence qu ’ il y avoir de fer à l ’ acier – vous parler de son talent comme écrivain Monsieur parler moi un peu de le femme politique – sous ce rapport à mon avis monsieur répondit gilbert on donne à mme de staël beaucoup plus d ’ importance qu ’ lui n ’ en mérite depuis l ’ émigration de mounier et de lally son salon être le tribune de parti anglais semi-aristocratique avec le chambre comme lui être bourgeoise et très bourgeoise lui avoir le faiblesse d ’ adorer le grand seigneur lui admire le anglais parce qu ’ lui croire le peuple anglais un peuple éminemment aristocrate lui ne savoir pas l ’ histoire de l ’ angleterre lui ignore le mécanisme de son gouvernement de sorte qu ’ lui prendre pour un gentilhomme de temps de croisade de noble d ’ hier puisés incessamment en bas le autre peuple avec de vieux faire parfois de neuf l ’ angleterre avec de neuf faire constamment de vieux – vous croire que c ’ être en raison de ce sentiment - là que mme de staël nous propose narbonn – ah ce fois monsieur amour être combinés l ’ amour de l ’ aristocratie et l ’ amour de l ’ aristocrate – vous croire que mme de staël aime m. de narbonne à cause de son aristocratie – ce n ’ être pas à cause de son mérite j ’ imagine – mais nul n ’ être moins aristocrate que m. de narbonne on ne connaît pas même son père – ah parce qu ’ on n ’ ose pas regarder de côté de soleil – voir Monsieur gilbert je être femme aimer le caquet par conséquer que dire on de m. de narbonne – mais on dire qu ’ il être roué brave spirituel – je parle de son naissance – on dire que quand le parti jésuite faire chasser voltaire machault d ’ argenson celui qu ’ on appeler le philosophe enfin – il lui falloir lutter contre mme de pompadour or le tradition de régent étaier là on savoir ce que pouvoir l ’ amour paternel doublé d ’ un autre amour alors on choisir – le jésuite avoir le main heureux pour ce sorte de choix monsieur – alors on choisir un fille de roi et l ’ on obtenir d ’ lui qu ’ lui se dévouât à l ’ œuvre incestueusement héroïque de là ce charmant cavalier dont on ignore le père comme dire votre majesté non point parce que son naissance se perdre dans l ’ obscurité mais parce qu ’ lui se fond dans le lumière – ainsi vous ne croire pas comme le jacobin comme m. de robespierre par exemple que m. de narbonn sorte de l ’ ambassade de suède – si fait monsieur seulement il sortir de boudoir de le femme et non de cabinet de mari supposer que m. de staël soit pour quelque chose là-dedan ce être supposer qu ’ il être le mari de son femme oh mon dieu non ce n ’ être poindre un trahison d ’ ambassadeur monsieur c ’ être un faiblesse d ’ amant il ne falloir pas moins que l ’ amour ce grand ce éternel fascinateur pour pousser un femme à mettre à main de ce roué frivole le gigantesque épé de le révolution – parler vous de celui qu ’ avoir baisée m. isnard au club de jacobin – héla monsieur je parle de celui qui être suspendre sur votre tête – donc à votre avis Monsieur gilbert nous avoir tort d ’ accepter m. de narbonne comme ministre de le guerre – vous faire mieux monsieur de prendre tout de suite celui qui lui succédera – et qui donc – dumouriez – dumouriez un officier de fortune – ah monsieur voilà le grand mot lâché et encore vis à-vi de celui qu ’ il frappe être il injuste m. dumouriez n ’ avoir -t il pas été simple soldat m. dumouriez je le savoir bien monsieur n ’ être pas de ce noblesse de cour à lequel on sacrifier tout m. dumouriez noble de province ne pouvoir ni obtenir ni acheter un régiment s ’ être engagé comme simple hussard à an il s ’ être faire hacher de coup de sabre par ou cavalier plutôt que de se rendre et malgré ce trait de courage malgré un intelligence réell il avoir languir dans le grade inférieur – son intelligence oui il l ’ avoir développée en servir d ’ espion à louis xv – pourquoi appeler en lui espionnage ce que vous appeler diplomatie chez le autre je savoir bien qu ’ à l ’ insu de ministre de roi il entretenir un correspondance avec le roi quel être le noble de cour qui n ’ en eût pas faire autant – mais Monsieur s ’ écrier le reine trahir son profonde étude de le politique par le détail dans lequel lui entrer c ’ être un homme essentiellement immoral que celui que vous me recommander il n ’ avoir nul principe aucun sentiment de l ’ honneur m. de choiseul m ’ avoir dire à moi que dumouriez lui avoir présenté projet relatifs à corse un pour le asservir l ’ autre pour le délivrer – c ’ être vrai monsieur mais m. de choiseul avoir oublié de vous dire que le premier être préféré et que dumouriez se battre bravement pour le faire réussir – le jour où nous accepter m. dumouriez pour ministre ce être comme si nous faire un déclaration de guerre à l ’ europe – eh monsieur dire le déclaration être faire dans tout le cœur savoir ce que le registre de ce département donner de citoyen inscrire pour partir volontairement mille dans le jurer le femme avoir déclaré que tout le homme pouvoir partir et que si on vouloir leur donner un pique lui suffire à garder le pays – vous venir de prononcer un»\n",
      "\n",
      "SIMILAR/DISSIMILAR DOCS PER MODEL Doc2Vec(dm/m,d50,n5,w5,mc2,s0.001,t3):\n",
      "\n",
      "MOST (0, 0.4600997567176819): «avant-propo c ’ être à vous que je dédie ce livre jeune fille qui le lire ce livre fruit de mon expérience et dans lequel je me suivre efforcée de vous peindre le vie non tel que vous le montre votre joyeux imagination qui ne le sème que de fleur et de plaisir mais tel qu ’ lui être réellement c ’ être - à-dir remplie de devoir sérieux et mêlée de pensée grave et austère avoir vous qui êtes assez heureux pour vous élever sous le direction sage et prudent de votre mère et qui de suivre son conseil à vous aussi pauvre enfant que le ciel avoir privéer de ce protection saint je venir vous dire déraciner de votre cœur tout ce défaut légers en apparence que le monde loue parce qu ’ il s ’ en amuse et qui ne pouvoir vous conduire qu ’ à le douleur et à regret et en cela je vous parle de le coquetterie qu ’ il nomme élégance de le médisance qu ’ il appeler moquerie de le paresse qu ’ il dire nonchalance de désordre de l ’ exaltation qu ’ il qualifier d ’ enthousiasme de ce nuage enfin qui obscurcir votre beau ciel et qui devoir y attirer le foudre je me suivre efforcée de vous faire bien voir combien un seul mauvais habitude déteint sur tout un brillant éducation c ’ être le goutte d ’ encre tombée dans le verre d ’ eau limpide et pour cela je vous avoir raconté quelque histoire prendre non dans mon imagination mais dans mon souvenir tout le jeune fille que je vous y montre je le avoir connaître lui avoir souffrir par leur faute ce mal cruel dont je n ’ avoir pouvoir vous dépeindr que le moindre partie et dont je vous avoir épargné le circonstance le plus pénible pour ne pas attrister votre imagination par un peinture qui s ’ adresser à votre raison avoir notre époque surtout c ’ être un devoir de vous apprendre le vie tel qu ’ lui devoir être de vous donner le main pour vous faire traverser le passage délicat qui sépare le jeune fille de le mère de famille parce qu ’ à ce époque le religion le famille le société être attaquées et que le femme être un de apôtre que dieu avoir destinés à défendre ce saint loi c ’ être par leur sagesse et leur prudence qu ’ lui pouvoir étayer soutenir et réparer le grand édifice social que l ’ on ébranl car par leur exemple et le bonheur qu ’ lui répandent autour d ’ lui le femme bon et sage réformer leur famille le famille réformeront leur province et le province réformer le monde nous devoir donc vaillamment combattre pour ce noble cause non dans le lutte politique le tribune n ’ être pas le champ de bataille de femme mais en montrer à tout que le bonheur ne se trouve que dans le saint devoir de le famille dans le doux joie de foyer domestique c ’ être je vous le jeune fille l ’ unique mission que dieu donne à le femme mission plus facile et non moins grand que celui qu ’ il avoir donnée jadis à son apôtre pour le bien remplir il falloir qu ’ lui veille avec attention et amour sur le jour et le cœur de son enfant qu ’ lui apporte le respect à son parent à son mari le bien - être et le bonheur enfin qu ’ lui soit dans son ménage le chanson le sourire le consolation et l ’ espérance voilà son mission modeste et simple voilà son tâche chrétienn voilà son unique apostolat l ’ esperance et le réalité . première partie rêverie et projet mois de mai mois de fleur vien rendre à l ’ aubépine son bouquet odorant o rire mois de mai venir rendre à l ’ aubépine le couronne argentin de son rameau blanc le premier rayon de soleil de mai frapper sur un bel et vert clairière former comme un rendez-vous de chasse au milieu d ’ un immense parc dépendance de château de magnifique propriété avoir gardé tout son apparence féodaler au grand ébahissement de touriste qui parcourir en curieux le site grandiose et presque magique de bas-poitou un centaine de vieux chêne au tronc peu élevé étendaient leur rameau nouveau et touffu sur un pelouse délicieus en quelque endroit il étaier mêlés de bouleau de houx et de bois de taillis de tout espèce dont le branche s ’ entrelaçaient de manière à former un grotte de verdure puisqu ’ lui parvenir à intercepter entièrement tout rayon de soleil ailleurs ce arbre s ’ écartaient le un de autre former de long avenue dans le détour desquelle le vue aime à s ’ égarer un bel pièce d ’ eau où nager un cygne d ’ un blancheur éblouissant occuper le milieu de ce promenade délicieus dont lui sembler compléter le charme rêveur et l ’ isolement jolie jeune fille faire partie tout en l ’ embellir encore de ce paysage enchanteur tout le cheveu flotter au vent enveloppées dans un simple robe de matin laisser deviner que leur premièr occupation avoir été de venir respirer en liberté l ’ air pur et balsamique que le lever de jour répand sur le nature un petit ombrelle qu ’ lui avoir emportée sans doute pour le préserver de soleil ne leur sembler jusque là nécessair que pour leur servir de canne afin de leur permettre de se soutenir presque en équilibre sur le pointe de leur pied mignon exercice indispensable pour éviter autant que cela éter en leur pouvoir l ’ humidité que le rosée avoir faire tomber en nappe aussi brillant qu ’ un rivière de diamant sur le gazon où lui devoir marcher éliane eliane tu aller trop vite dire en s ’ arrêter tout à coup un de notre charmante promeneuse et en mettre un main sur son cœur comme pour en modérer le battement précipité qu ’ un marche forcé venir d ’ entraîner avec lui aller aller un peu de courage je t ’ en conjure fermina d ’ ici à quelque instant nous être arrivéer à mon thébaïde et un fois là nous»\n",
      "\n",
      "MEDIAN (0, 0.4600997567176819): «avant-propo c ’ être à vous que je dédie ce livre jeune fille qui le lire ce livre fruit de mon expérience et dans lequel je me suivre efforcée de vous peindre le vie non tel que vous le montre votre joyeux imagination qui ne le sème que de fleur et de plaisir mais tel qu ’ lui être réellement c ’ être - à-dir remplie de devoir sérieux et mêlée de pensée grave et austère avoir vous qui êtes assez heureux pour vous élever sous le direction sage et prudent de votre mère et qui de suivre son conseil à vous aussi pauvre enfant que le ciel avoir privéer de ce protection saint je venir vous dire déraciner de votre cœur tout ce défaut légers en apparence que le monde loue parce qu ’ il s ’ en amuse et qui ne pouvoir vous conduire qu ’ à le douleur et à regret et en cela je vous parle de le coquetterie qu ’ il nomme élégance de le médisance qu ’ il appeler moquerie de le paresse qu ’ il dire nonchalance de désordre de l ’ exaltation qu ’ il qualifier d ’ enthousiasme de ce nuage enfin qui obscurcir votre beau ciel et qui devoir y attirer le foudre je me suivre efforcée de vous faire bien voir combien un seul mauvais habitude déteint sur tout un brillant éducation c ’ être le goutte d ’ encre tombée dans le verre d ’ eau limpide et pour cela je vous avoir raconté quelque histoire prendre non dans mon imagination mais dans mon souvenir tout le jeune fille que je vous y montre je le avoir connaître lui avoir souffrir par leur faute ce mal cruel dont je n ’ avoir pouvoir vous dépeindr que le moindre partie et dont je vous avoir épargné le circonstance le plus pénible pour ne pas attrister votre imagination par un peinture qui s ’ adresser à votre raison avoir notre époque surtout c ’ être un devoir de vous apprendre le vie tel qu ’ lui devoir être de vous donner le main pour vous faire traverser le passage délicat qui sépare le jeune fille de le mère de famille parce qu ’ à ce époque le religion le famille le société être attaquées et que le femme être un de apôtre que dieu avoir destinés à défendre ce saint loi c ’ être par leur sagesse et leur prudence qu ’ lui pouvoir étayer soutenir et réparer le grand édifice social que l ’ on ébranl car par leur exemple et le bonheur qu ’ lui répandent autour d ’ lui le femme bon et sage réformer leur famille le famille réformeront leur province et le province réformer le monde nous devoir donc vaillamment combattre pour ce noble cause non dans le lutte politique le tribune n ’ être pas le champ de bataille de femme mais en montrer à tout que le bonheur ne se trouve que dans le saint devoir de le famille dans le doux joie de foyer domestique c ’ être je vous le jeune fille l ’ unique mission que dieu donne à le femme mission plus facile et non moins grand que celui qu ’ il avoir donnée jadis à son apôtre pour le bien remplir il falloir qu ’ lui veille avec attention et amour sur le jour et le cœur de son enfant qu ’ lui apporte le respect à son parent à son mari le bien - être et le bonheur enfin qu ’ lui soit dans son ménage le chanson le sourire le consolation et l ’ espérance voilà son mission modeste et simple voilà son tâche chrétienn voilà son unique apostolat l ’ esperance et le réalité . première partie rêverie et projet mois de mai mois de fleur vien rendre à l ’ aubépine son bouquet odorant o rire mois de mai venir rendre à l ’ aubépine le couronne argentin de son rameau blanc le premier rayon de soleil de mai frapper sur un bel et vert clairière former comme un rendez-vous de chasse au milieu d ’ un immense parc dépendance de château de magnifique propriété avoir gardé tout son apparence féodaler au grand ébahissement de touriste qui parcourir en curieux le site grandiose et presque magique de bas-poitou un centaine de vieux chêne au tronc peu élevé étendaient leur rameau nouveau et touffu sur un pelouse délicieus en quelque endroit il étaier mêlés de bouleau de houx et de bois de taillis de tout espèce dont le branche s ’ entrelaçaient de manière à former un grotte de verdure puisqu ’ lui parvenir à intercepter entièrement tout rayon de soleil ailleurs ce arbre s ’ écartaient le un de autre former de long avenue dans le détour desquelle le vue aime à s ’ égarer un bel pièce d ’ eau où nager un cygne d ’ un blancheur éblouissant occuper le milieu de ce promenade délicieus dont lui sembler compléter le charme rêveur et l ’ isolement jolie jeune fille faire partie tout en l ’ embellir encore de ce paysage enchanteur tout le cheveu flotter au vent enveloppées dans un simple robe de matin laisser deviner que leur premièr occupation avoir été de venir respirer en liberté l ’ air pur et balsamique que le lever de jour répand sur le nature un petit ombrelle qu ’ lui avoir emportée sans doute pour le préserver de soleil ne leur sembler jusque là nécessair que pour leur servir de canne afin de leur permettre de se soutenir presque en équilibre sur le pointe de leur pied mignon exercice indispensable pour éviter autant que cela éter en leur pouvoir l ’ humidité que le rosée avoir faire tomber en nappe aussi brillant qu ’ un rivière de diamant sur le gazon où lui devoir marcher éliane eliane tu aller trop vite dire en s ’ arrêter tout à coup un de notre charmante promeneuse et en mettre un main sur son cœur comme pour en modérer le battement précipité qu ’ un marche forcé venir d ’ entraîner avec lui aller aller un peu de courage je t ’ en conjure fermina d ’ ici à quelque instant nous être arrivéer à mon thébaïde et un fois là nous»\n",
      "\n",
      "LEAST (0, 0.4600997567176819): «avant-propo c ’ être à vous que je dédie ce livre jeune fille qui le lire ce livre fruit de mon expérience et dans lequel je me suivre efforcée de vous peindre le vie non tel que vous le montre votre joyeux imagination qui ne le sème que de fleur et de plaisir mais tel qu ’ lui être réellement c ’ être - à-dir remplie de devoir sérieux et mêlée de pensée grave et austère avoir vous qui êtes assez heureux pour vous élever sous le direction sage et prudent de votre mère et qui de suivre son conseil à vous aussi pauvre enfant que le ciel avoir privéer de ce protection saint je venir vous dire déraciner de votre cœur tout ce défaut légers en apparence que le monde loue parce qu ’ il s ’ en amuse et qui ne pouvoir vous conduire qu ’ à le douleur et à regret et en cela je vous parle de le coquetterie qu ’ il nomme élégance de le médisance qu ’ il appeler moquerie de le paresse qu ’ il dire nonchalance de désordre de l ’ exaltation qu ’ il qualifier d ’ enthousiasme de ce nuage enfin qui obscurcir votre beau ciel et qui devoir y attirer le foudre je me suivre efforcée de vous faire bien voir combien un seul mauvais habitude déteint sur tout un brillant éducation c ’ être le goutte d ’ encre tombée dans le verre d ’ eau limpide et pour cela je vous avoir raconté quelque histoire prendre non dans mon imagination mais dans mon souvenir tout le jeune fille que je vous y montre je le avoir connaître lui avoir souffrir par leur faute ce mal cruel dont je n ’ avoir pouvoir vous dépeindr que le moindre partie et dont je vous avoir épargné le circonstance le plus pénible pour ne pas attrister votre imagination par un peinture qui s ’ adresser à votre raison avoir notre époque surtout c ’ être un devoir de vous apprendre le vie tel qu ’ lui devoir être de vous donner le main pour vous faire traverser le passage délicat qui sépare le jeune fille de le mère de famille parce qu ’ à ce époque le religion le famille le société être attaquées et que le femme être un de apôtre que dieu avoir destinés à défendre ce saint loi c ’ être par leur sagesse et leur prudence qu ’ lui pouvoir étayer soutenir et réparer le grand édifice social que l ’ on ébranl car par leur exemple et le bonheur qu ’ lui répandent autour d ’ lui le femme bon et sage réformer leur famille le famille réformeront leur province et le province réformer le monde nous devoir donc vaillamment combattre pour ce noble cause non dans le lutte politique le tribune n ’ être pas le champ de bataille de femme mais en montrer à tout que le bonheur ne se trouve que dans le saint devoir de le famille dans le doux joie de foyer domestique c ’ être je vous le jeune fille l ’ unique mission que dieu donne à le femme mission plus facile et non moins grand que celui qu ’ il avoir donnée jadis à son apôtre pour le bien remplir il falloir qu ’ lui veille avec attention et amour sur le jour et le cœur de son enfant qu ’ lui apporte le respect à son parent à son mari le bien - être et le bonheur enfin qu ’ lui soit dans son ménage le chanson le sourire le consolation et l ’ espérance voilà son mission modeste et simple voilà son tâche chrétienn voilà son unique apostolat l ’ esperance et le réalité . première partie rêverie et projet mois de mai mois de fleur vien rendre à l ’ aubépine son bouquet odorant o rire mois de mai venir rendre à l ’ aubépine le couronne argentin de son rameau blanc le premier rayon de soleil de mai frapper sur un bel et vert clairière former comme un rendez-vous de chasse au milieu d ’ un immense parc dépendance de château de magnifique propriété avoir gardé tout son apparence féodaler au grand ébahissement de touriste qui parcourir en curieux le site grandiose et presque magique de bas-poitou un centaine de vieux chêne au tronc peu élevé étendaient leur rameau nouveau et touffu sur un pelouse délicieus en quelque endroit il étaier mêlés de bouleau de houx et de bois de taillis de tout espèce dont le branche s ’ entrelaçaient de manière à former un grotte de verdure puisqu ’ lui parvenir à intercepter entièrement tout rayon de soleil ailleurs ce arbre s ’ écartaient le un de autre former de long avenue dans le détour desquelle le vue aime à s ’ égarer un bel pièce d ’ eau où nager un cygne d ’ un blancheur éblouissant occuper le milieu de ce promenade délicieus dont lui sembler compléter le charme rêveur et l ’ isolement jolie jeune fille faire partie tout en l ’ embellir encore de ce paysage enchanteur tout le cheveu flotter au vent enveloppées dans un simple robe de matin laisser deviner que leur premièr occupation avoir été de venir respirer en liberté l ’ air pur et balsamique que le lever de jour répand sur le nature un petit ombrelle qu ’ lui avoir emportée sans doute pour le préserver de soleil ne leur sembler jusque là nécessair que pour leur servir de canne afin de leur permettre de se soutenir presque en équilibre sur le pointe de leur pied mignon exercice indispensable pour éviter autant que cela éter en leur pouvoir l ’ humidité que le rosée avoir faire tomber en nappe aussi brillant qu ’ un rivière de diamant sur le gazon où lui devoir marcher éliane eliane tu aller trop vite dire en s ’ arrêter tout à coup un de notre charmante promeneuse et en mettre un main sur son cœur comme pour en modérer le battement précipité qu ’ un marche forcé venir d ’ entraîner avec lui aller aller un peu de courage je t ’ en conjure fermina d ’ ici à quelque instant nous être arrivéer à mon thébaïde et un fois là nous»\n",
      "\n"
     ]
    }
   ],
   "source": [
    "import random\n",
    "\n",
    "# Pick a random document from the test corpus and infer a vector from the model\n",
    "doc_id = random.randint(0, len(test_corpus) - 1)\n",
    "inferred_vector = model.infer_vector(test_corpus[doc_id])\n",
    "sims = model.dv.most_similar([inferred_vector], topn=len(model.dv))\n",
    "\n",
    "# Compare and print the most/median/least similar documents from the train corpus\n",
    "print('Test Document ({}): «{}»\\n'.format(doc_id, ' '.join(test_corpus[doc_id])))\n",
    "print(u'SIMILAR/DISSIMILAR DOCS PER MODEL %s:\\n' % model)\n",
    "for label, index in [('MOST', 0), ('MEDIAN', len(sims)//2), ('LEAST', len(sims) - 1)]:\n",
    "    print(u'%s %s: «%s»\\n' % (label, sims[index], ' '.join(train_corpus[sims[index][0]].words)))"
   ]
  },
  {
   "cell_type": "code",
   "execution_count": null,
   "metadata": {},
   "outputs": [],
   "source": []
  }
 ],
 "metadata": {
  "kernelspec": {
   "display_name": "Python 3",
   "language": "python",
   "name": "python3"
  },
  "language_info": {
   "codemirror_mode": {
    "name": "ipython",
    "version": 3
   },
   "file_extension": ".py",
   "mimetype": "text/x-python",
   "name": "python",
   "nbconvert_exporter": "python",
   "pygments_lexer": "ipython3",
   "version": "3.8.5"
  }
 },
 "nbformat": 4,
 "nbformat_minor": 4
}
