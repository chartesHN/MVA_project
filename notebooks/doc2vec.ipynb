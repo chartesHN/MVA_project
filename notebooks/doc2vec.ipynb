{
 "cells": [
  {
   "cell_type": "code",
   "execution_count": 1,
   "metadata": {
    "jupyter": {
     "outputs_hidden": false
    }
   },
   "outputs": [],
   "source": [
    "%matplotlib inline"
   ]
  },
  {
   "cell_type": "markdown",
   "metadata": {},
   "source": [
    "\n",
    "Doc2Vec Model\n",
    "=============\n",
    "\n",
    "Tuto : https://radimrehurek.com/gensim/auto_examples/tutorials/run_doc2vec_lee.html\n",
    "\n",
    "\n"
   ]
  },
  {
   "cell_type": "code",
   "execution_count": 103,
   "metadata": {
    "jupyter": {
     "outputs_hidden": false
    }
   },
   "outputs": [],
   "source": [
    "import os\n",
    "from tqdm import tqdm\n",
    "import gensim\n",
    "import glob\n",
    "import numpy as np"
   ]
  },
  {
   "cell_type": "code",
   "execution_count": 72,
   "metadata": {
    "jupyter": {
     "outputs_hidden": false
    }
   },
   "outputs": [],
   "source": [
    "from nltk.tokenize import word_tokenize\n",
    "\n",
    "def read_corpus(directory, tokens_only=False):\n",
    "    for i, filename in tqdm(enumerate(os.listdir(directory))):\n",
    "        with open(os.path.join(directory,filename), encoding=\"utf8\") as f:\n",
    "                tokens = word_tokenize(f.read(), language=\"french\")\n",
    "                if tokens_only:\n",
    "                    yield tokens\n",
    "                else:\n",
    "                    # For training data, add tags\n",
    "                    yield gensim.models.doc2vec.TaggedDocument(tokens, [i])"
   ]
  },
  {
   "cell_type": "code",
   "execution_count": 73,
   "metadata": {},
   "outputs": [
    {
     "name": "stderr",
     "output_type": "stream",
     "text": [
      "2483it [00:23, 103.83it/s]\n",
      "694it [00:07, 97.00it/s] \n"
     ]
    }
   ],
   "source": [
    "dir_path_train = os.path.join(os.path.dirname(os.path.realpath(\"../D2V_corpus/train\")),\"train\")\n",
    "dir_path_test = os.path.join(os.path.dirname(os.path.realpath(\"../D2V_corpus/test\")),\"test\")\n",
    "\n",
    "train_corpus = list(read_corpus(dir_path_train))\n",
    "test_corpus = list(read_corpus(dir_path_test, tokens_only = True))"
   ]
  },
  {
   "cell_type": "markdown",
   "metadata": {},
   "source": [
    "Training the Model\n",
    "------------------"
   ]
  },
  {
   "cell_type": "code",
   "execution_count": 76,
   "metadata": {
    "jupyter": {
     "outputs_hidden": false
    }
   },
   "outputs": [],
   "source": [
    "model = gensim.models.doc2vec.Doc2Vec(vector_size=50, min_count=2, epochs=40)"
   ]
  },
  {
   "cell_type": "code",
   "execution_count": 77,
   "metadata": {
    "jupyter": {
     "outputs_hidden": false
    }
   },
   "outputs": [],
   "source": [
    "model.build_vocab(train_corpus)"
   ]
  },
  {
   "cell_type": "code",
   "execution_count": 79,
   "metadata": {
    "jupyter": {
     "outputs_hidden": false
    }
   },
   "outputs": [],
   "source": [
    "model.train(train_corpus, total_examples=model.corpus_count, epochs=model.epochs)"
   ]
  },
  {
   "cell_type": "markdown",
   "metadata": {},
   "source": [
    "## Examples"
   ]
  },
  {
   "cell_type": "code",
   "execution_count": 163,
   "metadata": {},
   "outputs": [],
   "source": [
    "### stuff for visualizing examples\n",
    "\n",
    "train_filename_dict =  {ix: filename for ix, filename in enumerate(os.listdir(\"../D2V_corpus/train\"))}\n",
    "test_filename_dict =  {ix: filename for ix, filename in enumerate(os.listdir(\"../D2V_corpus/test\"))}\n",
    "\n",
    "def print_by_ix(ix, train=True):\n",
    "    \n",
    "    directory = '../D2V_corpus/train/' if train == True else '../D2V_corpus/test/'\n",
    "    filename_dict = train_filename_dict if train == True else test_filename_dict\n",
    "    with open(directory+filename_dict[ix], 'r', encoding='utf8') as f:\n",
    "        print(f.read())\n",
    "        \n",
    "        \n",
    "def similarity_example(n, test=True, print_contents=False):    \n",
    "    \n",
    "    if test == True:\n",
    "        sample = np.random.choice(range(len(test_corpus)), n)\n",
    "        for ix in sample:\n",
    "            inferred_vector = model.infer_vector(test_corpus[ix])\n",
    "            most_similar_ix = model.dv.most_similar(inferred_vector, topn=1)[0][0]\n",
    "            similar_file = train_filename_dict[most_similar_ix]\n",
    "            print(f'\\n\\nTEXT NR {ix}:\\n {filename_dict[ix]}\\n')\n",
    "            if print_contents:\n",
    "                print_by_ix(ix)\n",
    "                print('\\n\\n')\n",
    "            print(f'MOST SIMILAR:\\n {filename_dict[most_similar_ix]}\\n')\n",
    "            if print_contents:\n",
    "                print_by_ix(most_similar_ix)\n",
    "            \n",
    "    else:\n",
    "        sample = np.random.choice(range(len(train_corpus)), n)\n",
    "        for ix in sample:\n",
    "            most_similar_ix = model.dv.most_similar(ix, topn=1)[0][0]\n",
    "            similar_file = train_filename_dict[most_similar_ix]\n",
    "            print(f'\\n\\nTEXT NR {ix}:\\n {train_filename_dict[ix]}\\n')\n",
    "            if print_contents:\n",
    "                print_by_ix(ix)\n",
    "                print('\\n\\n')\n",
    "            print(f'MOST SIMILAR:\\n {train_filename_dict[most_similar_ix]}\\n')\n",
    "            if print_contents:\n",
    "                print_by_ix(most_similar_ix)"
   ]
  },
  {
   "cell_type": "code",
   "execution_count": 164,
   "metadata": {
    "scrolled": true
   },
   "outputs": [
    {
     "name": "stdout",
     "output_type": "stream",
     "text": [
      "\n",
      "\n",
      "TEXT NR 75:\n",
      " 1850_Dumas-Alexandre-Pere_Dieu-dispose-II_canon_CHUNK_19.txt\n",
      "\n",
      "MOST SIMILAR:\n",
      " 1850_Sue-Eugene_Les-Mysteres-du-peuple-Tome-V_canon_CHUNK_47.txt\n",
      "\n",
      "\n",
      "\n",
      "TEXT NR 653:\n",
      " 1850_Dumas-Alexandre_Le-Vicomte-de-Bragelonne_canon_CHUNK_223.txt\n",
      "\n",
      "MOST SIMILAR:\n",
      " 1850_Dumas-Alexandre_Le-Vicomte-de-Bragelonne_canon_CHUNK_22.txt\n",
      "\n",
      "\n",
      "\n",
      "TEXT NR 470:\n",
      " 1850_Dumas-Alexandre_La-Tulipe-noire_canon_CHUNK_37.txt\n",
      "\n",
      "MOST SIMILAR:\n",
      " 1851_Dumas-Alexandre-Pere_Olympe-de-Cleves-I_canon_CHUNK_12.txt\n",
      "\n",
      "\n",
      "\n",
      "TEXT NR 167:\n",
      " 1850_Dumas-Alexandre-Pere_Dieu-dispose-I_canon_CHUNK_21.txt\n",
      "\n",
      "MOST SIMILAR:\n",
      " 1850_Dumas-Alexandre_Le-Vicomte-de-Bragelonne_canon_CHUNK_179.txt\n",
      "\n",
      "\n",
      "\n",
      "TEXT NR 123:\n",
      " 1850_Dumas-Alexandre-Pere_Dieu-dispose-II_canon_CHUNK_62.txt\n",
      "\n",
      "MOST SIMILAR:\n",
      " 1850_Lamartine-Alphonse-de_Genevieve--histoire-d-une-servante_canon_CHUNK_39.txt\n",
      "\n",
      "\n",
      "\n",
      "TEXT NR 395:\n",
      " 1850_Dumas-Alexandre-Pere_Le-Trou-de-l-Enfer_canon_CHUNK_59.txt\n",
      "\n",
      "MOST SIMILAR:\n",
      " 1850_Dumas-Alexandre-Pere_La-colombe_canon_CHUNK_15.txt\n",
      "\n",
      "\n",
      "\n",
      "TEXT NR 255:\n",
      " 1850_Dumas-Alexandre-Pere_La-colombe_canon_CHUNK_15.txt\n",
      "\n",
      "MOST SIMILAR:\n",
      " 1851_Dumas-Alexandre_Ange-Pitou_canon_CHUNK_84.txt\n",
      "\n",
      "\n",
      "\n",
      "TEXT NR 409:\n",
      " 1850_Dumas-Alexandre-Pere_Le-Trou-de-l-Enfer_canon_CHUNK_71.txt\n",
      "\n",
      "MOST SIMILAR:\n",
      " 1851_Dumas-Alexandre_Ange-Pitou_canon_CHUNK_1.txt\n",
      "\n",
      "\n",
      "\n",
      "TEXT NR 611:\n",
      " 1850_Dumas-Alexandre_Le-Vicomte-de-Bragelonne_canon_CHUNK_186.txt\n",
      "\n",
      "MOST SIMILAR:\n",
      " 1850_Dumas-Alexandre_La-Tulipe-noire_canon_CHUNK_21.txt\n",
      "\n",
      "\n",
      "\n",
      "TEXT NR 687:\n",
      " 1850_Dumas-Alexandre_Le-Vicomte-de-Bragelonne_canon_CHUNK_254.txt\n",
      "\n",
      "MOST SIMILAR:\n",
      " 1851_Dumas-Alexandre_Ange-Pitou_canon_CHUNK_123.txt\n",
      "\n",
      "\n",
      "\n",
      "TEXT NR 285:\n",
      " 1850_Dumas-Alexandre-Pere_La-femme-au-collier-de-velours_canon_CHUNK_17.txt\n",
      "\n",
      "MOST SIMILAR:\n",
      " 1850_Feval-Paul-(pere)_Les-Belles-de-nuit-ou-Les-Anges-de-la-famille-Tome-I_noncanon_CHUNK_25.txt\n",
      "\n",
      "\n",
      "\n",
      "TEXT NR 591:\n",
      " 1850_Dumas-Alexandre_Le-Vicomte-de-Bragelonne_canon_CHUNK_168.txt\n",
      "\n",
      "MOST SIMILAR:\n",
      " 1851_Dumas-Alexandre_Ange-Pitou_canon_CHUNK_164.txt\n",
      "\n",
      "\n",
      "\n",
      "TEXT NR 515:\n",
      " 1850_Dumas-Alexandre_Le-Vicomte-de-Bragelonne_canon_CHUNK_1.txt\n",
      "\n",
      "MOST SIMILAR:\n",
      " 1851_Dumas-Alexandre_Ange-Pitou_canon_CHUNK_105.txt\n",
      "\n",
      "\n",
      "\n",
      "TEXT NR 649:\n",
      " 1850_Dumas-Alexandre_Le-Vicomte-de-Bragelonne_canon_CHUNK_22.txt\n",
      "\n",
      "MOST SIMILAR:\n",
      " 1851_Dumas-Alexandre-Pere_Olympe-de-Cleves-II_canon_CHUNK_50.txt\n",
      "\n",
      "\n",
      "\n",
      "TEXT NR 201:\n",
      " 1850_Dumas-Alexandre-Pere_Dieu-dispose-I_canon_CHUNK_52.txt\n",
      "\n",
      "MOST SIMILAR:\n",
      " 1851_Dumas-Alexandre_Ange-Pitou_canon_CHUNK_64.txt\n",
      "\n",
      "\n",
      "\n",
      "TEXT NR 117:\n",
      " 1850_Dumas-Alexandre-Pere_Dieu-dispose-II_canon_CHUNK_57.txt\n",
      "\n",
      "MOST SIMILAR:\n",
      " 1850_Lamartine-Alphonse-de_Genevieve--histoire-d-une-servante_canon_CHUNK_56.txt\n",
      "\n",
      "\n",
      "\n",
      "TEXT NR 258:\n",
      " 1850_Dumas-Alexandre-Pere_La-colombe_canon_CHUNK_18.txt\n",
      "\n",
      "MOST SIMILAR:\n",
      " 1851_Dumas-Alexandre_Ange-Pitou_canon_CHUNK_52.txt\n",
      "\n",
      "\n",
      "\n",
      "TEXT NR 492:\n",
      " 1850_Dumas-Alexandre_La-Tulipe-noire_canon_CHUNK_57.txt\n",
      "\n",
      "MOST SIMILAR:\n",
      " 1851_Dumas-Alexandre_Ange-Pitou_canon_CHUNK_39.txt\n",
      "\n",
      "\n",
      "\n",
      "TEXT NR 640:\n",
      " 1850_Dumas-Alexandre_Le-Vicomte-de-Bragelonne_canon_CHUNK_211.txt\n",
      "\n",
      "MOST SIMILAR:\n",
      " 1851_Dumas-Alexandre_Ange-Pitou_canon_CHUNK_28.txt\n",
      "\n",
      "\n",
      "\n",
      "TEXT NR 481:\n",
      " 1850_Dumas-Alexandre_La-Tulipe-noire_canon_CHUNK_47.txt\n",
      "\n",
      "MOST SIMILAR:\n",
      " 1851_Dumas-Alexandre_Ange-Pitou_canon_CHUNK_105.txt\n",
      "\n",
      "\n",
      "\n",
      "TEXT NR 82:\n",
      " 1850_Dumas-Alexandre-Pere_Dieu-dispose-II_canon_CHUNK_25.txt\n",
      "\n",
      "MOST SIMILAR:\n",
      " 1850_Sue-Eugene_Les-Mysteres-du-peuple-Tome-V_canon_CHUNK_47.txt\n",
      "\n",
      "\n",
      "\n",
      "TEXT NR 66:\n",
      " 1850_Dumas-Alexandre-Pere_Dieu-dispose-II_canon_CHUNK_10.txt\n",
      "\n",
      "MOST SIMILAR:\n",
      " 1850_Sue-Eugene_Les-Mysteres-du-peuple-Tome-V_canon_CHUNK_77.txt\n",
      "\n",
      "\n",
      "\n",
      "TEXT NR 508:\n",
      " 1850_Dumas-Alexandre_La-Tulipe-noire_canon_CHUNK_71.txt\n",
      "\n",
      "MOST SIMILAR:\n",
      " 1851_Dumas-Alexandre_Ange-Pitou_canon_CHUNK_50.txt\n",
      "\n",
      "\n",
      "\n",
      "TEXT NR 588:\n",
      " 1850_Dumas-Alexandre_Le-Vicomte-de-Bragelonne_canon_CHUNK_165.txt\n",
      "\n",
      "MOST SIMILAR:\n",
      " 1851_Dumas-Alexandre_Ange-Pitou_canon_CHUNK_52.txt\n",
      "\n",
      "\n",
      "\n",
      "TEXT NR 376:\n",
      " 1850_Dumas-Alexandre-Pere_Le-Trou-de-l-Enfer_canon_CHUNK_41.txt\n",
      "\n",
      "MOST SIMILAR:\n",
      " 1851_Dumas-Alexandre_Ange-Pitou_canon_CHUNK_108.txt\n",
      "\n",
      "\n",
      "\n",
      "TEXT NR 399:\n",
      " 1850_Dumas-Alexandre-Pere_Le-Trou-de-l-Enfer_canon_CHUNK_62.txt\n",
      "\n",
      "MOST SIMILAR:\n",
      " 1851_Dumas-Alexandre_Ange-Pitou_canon_CHUNK_157.txt\n",
      "\n",
      "\n",
      "\n",
      "TEXT NR 580:\n",
      " 1850_Dumas-Alexandre_Le-Vicomte-de-Bragelonne_canon_CHUNK_158.txt\n",
      "\n",
      "MOST SIMILAR:\n",
      " 1850_Lamartine-Alphonse-de_Genevieve--histoire-d-une-servante_canon_CHUNK_14.txt\n",
      "\n",
      "\n",
      "\n",
      "TEXT NR 382:\n",
      " 1850_Dumas-Alexandre-Pere_Le-Trou-de-l-Enfer_canon_CHUNK_47.txt\n",
      "\n",
      "MOST SIMILAR:\n",
      " 1851_Dumas-Alexandre_Ange-Pitou_canon_CHUNK_77.txt\n",
      "\n",
      "\n",
      "\n",
      "TEXT NR 470:\n",
      " 1850_Dumas-Alexandre_La-Tulipe-noire_canon_CHUNK_37.txt\n",
      "\n",
      "MOST SIMILAR:\n",
      " 1851_Dumas-Alexandre-Pere_Olympe-de-Cleves-I_canon_CHUNK_12.txt\n",
      "\n",
      "\n",
      "\n",
      "TEXT NR 413:\n",
      " 1850_Dumas-Alexandre-Pere_Le-Trou-de-l-Enfer_canon_CHUNK_75.txt\n",
      "\n",
      "MOST SIMILAR:\n",
      " 1851_Dumas-Alexandre_Ange-Pitou_canon_CHUNK_165.txt\n",
      "\n"
     ]
    }
   ],
   "source": [
    "similarity_example(30)"
   ]
  },
  {
   "cell_type": "markdown",
   "metadata": {},
   "source": [
    "Testing the Model\n",
    "-----------------"
   ]
  },
  {
   "cell_type": "code",
   "execution_count": 84,
   "metadata": {
    "jupyter": {
     "outputs_hidden": false
    },
    "scrolled": true
   },
   "outputs": [
    {
     "name": "stdout",
     "output_type": "stream",
     "text": [
      "Test Document (477): «il voir dans le décret sur le prêtre « dire il rendre contre le conscience public il voir dans le décret sur le émigré « rendre contre le lien de famille un moyen d ’ essayer de pouvoir de roi le club de feuillant prépara et le directoire de pari signer contre ce décret un protestation dans lequel on prier louis xvi d ’ apposer son veto au décret concerner le prêtre on se rappeler que le constitution réserver à louis xvi ce droit de veto qui signer ce protestation l ’ homme qui le premier avoir attaqué le clergé le méphistophélè qui de son pied bot avoir cassé le glace talleyrand l ’ homme qui avoir faire depuis de le diplomatie à le loupe ne voir pas toujours très clair en révolution le bruit de veto se répandit d ’ avance le cordelier lancèrent en avant camille desmoulin ce lancier de le révolution qu ’ on trouve toujours prêt à planter son pique en plein but lui aussi faire son pétition mais bredouilleur impossible quand il essayer de prendre le parole il charger fauchet de le lire fauchet le lut lui être applaudir d ’ un bout à l ’ autre il éter difficile de manier le question avec plus d ’ ironie et d ’ aller en mêm temps plus à fond nous ne nous plaindre dire le camarade de collège de robespierre et l ’ ami de danton nous ne nous plaindre ni de le constitution qui avoir accordé le veto ni de roi qui en use nous souvenir de le maxime d ’ un grand politique de machiavel si le prince devoir renoncer à le souveraineté le nation être trop injuste trop cruel de trouver mauvais qu ’ il s ’ opposât constamment à le volonté général parce qu ’ il être difficile et contre nature de tomber volontairement de si haut pénétré de ce vérité prendre exemple de dieu même dont le commandement ne être point impossible nous n ’ exiger jamais de ci - devant souverain un amour impossible de le souveraineté national et nous ne trouver point mauvais qu ’ il appose son veto précisément à meilleur décret l ’ assemblée comme nous l ’ avoir dire applaudir adopter le pétition décréta l ’ insertion au procè - verbal et l ’ envoi de procè - verbal à département le soir le feuillant s ’ émurer beaucoup de membre de club représenter à le législative n ’ avoir point assisté à le séance le absent de le veille faire le lendemain invasion dans l ’ assemblée il étaier soixante on annuler le décret de le veille au milieu de huée et un sifflet de tribune ce être le guerre entre l ’ assemblée et le club qui s ’ appuyer d ’ autant plus dè lors sur le jacobin représentés par robespierre et sur le cordelier représentés par danton en effet danton gagner en popularité son tête monstrueux commençer de s ’ élever au-dessus de le foule géant il grandir devant le royauté et lui dire prendre garde le mer sur lequel tu navigue s ’ appeler le mer de tempête puis voilà tout à coup le reine qui venir en aide à jacobin contre le feuillant le haine de marie-antoinette avoir été à le révolution ce que être à l ’ atlantique le grain et le bourrasque marie-antoinett haïsser le fayette le fayette qui l ’ avoir sauvée au octobre qui avoir perdre son popularité pour le cour au juillet le fayette aspirer à remplacer bailly comme maire de pari le reine au lieu d ’ aider le fayette faire voter le royaliste en faveur de pétion etrang aveuglement en faveur de pétion son brutal compagnon de voyage au retour de varenne le décembre le roi se présente à l ’ assemblée il y venir apporter son veto au décret rendre contre le prêtre le veille à jacobin avoir avoir lieu un grave démonstration un suisse de neuchâtel virchau le même qui au champ-de-mars écrivait le pétition pour le république avoir offrir à le société un épée de damas destinée au premier général qui vaincre le ennemi de le liberté . isnard éter là il prendre l ’ épée de jeune républicain le tirer de fourreau et s ’ élança à le tribune en crier – le voilà l ’ épée de l ’ ange exterminateur lui être victorieux le france pousser un grand cri et le peuple répondront le terre alors se couvrir de combattant et le ennemi de le liberté être effacés de le liste de homme ezéchiel n ’ eût pas mieux dire l ’ épée tirée ne devoir pas être remettre au fourreau un double guerre éter déclaré à l ’ intérieur et à l ’ extérieur l ’ épée de républicain de neuchâtel devoir frapper d ’ abord le roi de france puis après le roi de france le roi étranger gilbert n ’ avoir pas revoir le reine depuis le jour où celui-ci l ’ avoir prié de l ’ attendre un instant dans son cabinet l ’ y avoir laissé pour écouter le plan politique que m. de breteuil rapporter de vienne et qui éter conçu en ce terme « faire de barnave comme de mirabeau gagner de temps jurer le constitution l ’ exécuter littéralement pour montrer qu ’ lui être inexécutable le france se refroidir s ’ ennuyer le françai avoir le tête il se faire quelque mode nouveau et le liberté passer « si le liberté ne passer pas on avoir gagné un an et dans un an nous être prêts à le guerre mois s ’ étaier écoulés depuis ce époque le liberté n ’ avoir point passé et il éter évider que le souverain étrangers étaier en train d ’ accomplir leur promesse et se préparaient à le guerre gilbert être étonné de voir entrer un matin chez lui le valet de chambre de roi ii penser d ’ abord que le roi était malade et l ’ envoyer chercher mais le valet de chambre le rassurer il lui dire qu ’ on le demander au château gilbert insister pour savoir qui le demander mais le valet de chambre qui sans doute avoir un ordre ne se départit pas de ce formule – on vous demande au»\n",
      "\n",
      "SIMILAR/DISSIMILAR DOCS PER MODEL Doc2Vec(dm/m,d50,n5,w5,mc2,s0.001,t3):\n",
      "\n",
      "MOST (2163, 0.7392829656600952): «un de ce régiment là qui déjà avoir mettre en fuite le émeute et avoir versé le sang dans le convulsion de le guerre civil on faire venir un de ce régiment le plus connaître le parisien comprendre alors et ce être le seul recours qu ’ on leur laisse pour leur salut l ’ abstention c ’ était après tout le querelle de l ’ assemblée et de roi pour le veto le roi avoir pendant mois lutté pour ressaisir un lambeau de souveraineté il avoir conjointement avec le ministère et mirabeau essayé de neutraliser l ’ élan républicain qui vouloir effacer le royauté en france le reine s ’ éter usée à ce lutte usée surtout parce qu ’ lui avoir voir le roi succomber le roi avoir perdre à ce combat tout son pouvoir et le reste de son popularité . le reine avoir gagné un surnom un sobriquet un de ce mot étranger à l ’ oreille de peuple ce qui par cela mêm caresse l ’ oreille de peuple un nom qui n ’ éter pas encore un injure mais qui devoir devenir le plus sanglant de tout un mot d ’ esprit qui se changer plus tard en un mot de sang on l ’ appeler enfin monsieur veto ce nom - là devoir aller porté sur l ’ aile de chanson révolutionnairer épouvanter en allemagne le sujet et le ami de celui qui en envoyer à le france un reine allemand avoir le droit de s ’ étonner qu ’ on l ’ injuriât de nom de l ’ autrichien ce nom - là devoir accompagner à pari dans le ronde insensée à jour de massacre le dernier cri le agonie hideux de victime marie-antoinette désormais s ’ appeler monsieur veto jusqu ’ au jour où lui s ’ appeler le veuve capet c ’ éter déjà le troisièm fois qu ’ lui changer de nom après l ’ avoir appelée l ’ autrichien on l ’ avoir appelée monsieur après le lutte dans lequel le reine avoir essayé d ’ intéresser son amie par l ’ imminence de leur propre danger lui avoir remarqué seulement que passeport avoir été demandé à l ’ hôtel de ville soixant notable de pari et de france étaier partir rejoindre à l ’ étranger le ami et le parent de le reine exemple bien frapper qui avoir frappé le reine aussi ne méditer -elle point autre chose à dater de ce moment qu ’ un fuite adroitement concerté qu ’ un fuite appuyé par le force au besoin un fuite au bout de lequel éter le salut après quoi le fidèle resté en france pouvoir faire le guerre civil c ’ être - à-dir châtier le révolutionnaire le plan n ’ éter pas mauvais il eût réussi assurément mais derrière le reine veiller aussi le mauvais génie étrange destinée ce femme qui inspirer de si grand dévouements ne rencontrer nul part le discrétion on savoir dans pari qu ’ lui vouloir fuir avant qu ’ lui en fût persuadée lui même à partir de moment où on le savoir marie-antoinette ne s ’ aperçut pas que son plan était devenir impraticable cependant un régiment fameux par son sympathie royaliste le régiment de flandre arriver sur pari à marche ce régiment était demandé par le municipalité de versaille qui excédée par le garde extraordinaire par le surveillance obligé autour de château sans cesse menacé par le distribution de vivre et le émeute successif avoir besoin d ’ un autre force que le garde national et le milice le château lui avoir déjà bien assez de peine à se défendre lui - même ce régiment de flandre arriver dison nous et pour qu ’ il prît sur-le-champ l ’ autorité dont on chercher à le revêtir il falloir qu ’ un accueil particulier lui attirât l ’ attention de peuple l ’ amiral d ’ estaing réunit le officier de le garde national tout celui de corps présent à versaille et se rendre au - devant de régiment de flandre celui-ci faire un entrée solennel dans versaille avec son canon son parc et son convoi autour de ce point devenir central venir se grouper un foule de jeune gentilhomme n ’ appartenir à aucun arme spécial il se choisir entre lui un uniforme pour se reconnaître se joindre à tout le officier hors un cadre à tout le chevalier de saint-loui que le danger ou le prévoyance amènent à versaille de là il se répander dans pari qui voir alors avec un stupeur profond ce nouveau ennemi frais insolent et gonflés d ’ un secret qui aller leur échapper à le premièr occasion dè ce moment le roi pouvoir partir il eût été soutenir protégé dans son voyage et pouvoir - être pari encore ignorer et mal préparé l ’ avoir il laissé partir mais ce mauvais génie de l ’ autrichien veiller toujours lièg se révolter contre l ’ empereur et l ’ occupation que donner ce révolte en autrich empêcha qu ’ on songeât à le reine de france celui-ci d ’ ailleurs croire devoir s ’ abstenir par délicatesse en un pareil moment alors le chose à qui l ’ impulsion était donnée continuèrent de courir avec un foudroyante rapidité . après l ’ ovation faire au régiment de flandre le garde de corps décidèrent qu ’ un dîner être offrir à officier de ce régiment ce repas ce fête être fixé au ier octobre tout ce qu ’ il y avoir d ’ important dans le ville y être invité . de quoi s ’ agir il de fraterniser avec le soldat de flandre pourquoi de soldat n ’ avoir il point fraternisé entre lui puisque le district et le province fraterniser éter il défendu par le constitution que un gentilhomme fraternisassent le roi éter encore le maître de son régiment et le commander seul il avoir seul le propriété de son château de versaille il avoir seul le droit d ’ y recevoir qui bon lui sembler pourquoi n ’ y avoir il pas reçu de brave soldat et de digne gentilhomme arriver de douai où il s ’ étaier bien conduire rien de plus naturel nul ne songer à s ’ en étonner à s ’ en alarmer bien moins encore ce repas prendre en commun aller cimenter l ’»\n",
      "\n",
      "MEDIAN (1300, 0.1255308836698532): «heure le navrait venir lui donner un force nouveau lui jeter un coup d ’ œil sur méloir qui enfonçer à vue d ’ œil – je ne pouvoir pas le sauver murmurer -t -elle et son bel main blanc s ’ appuyer sur le sable pour aider le mouvement de son corps mais un autre main un main de fer se refermer sur son bel main blanc méloir avoir à lèvre un sourir sinistre il dire – ceci être notre couche nuptial reine de maurever dire il j ’ avoir juré que tu serais mon femme reine pousser un cri d ’ horreur ce être en ce moment que de haut de galerie supérieure un voix tomber sur le plate - forme de monastère et dire – prier pour celui qui aller mourir sur le plate - forme tout le monde s ’ était agenouillé . le glas tinta le vieux maurever plus pâle qu ’ un mort mais le oeil sec et le voix ferme réponder l ’ oraison dire par le moine pour le condamné de mari jeannin simonnett son père et le autre vassal de maurever pleurer silencieusement au nord-ouest le grand ligne bleu avançait étincelante sous le rayon de soleil le cheval d ’ aubry dévorer le sable précédé toujours par maître loy le grand lévrier noir qui de le mer ou de cavalier de le mort ou de le vie aller arriver le premier reine n ’ avoir poussé qu ’ un cri puis son charmant tête blonde s ’ éter renversée tandis que son grand oeil bleu se tourner vers le ciel lui aussi prier lui prier pour son père et pour aubry avant de prier pour lui même méloir le couvrir d ’ un regard de damné . méloir avoir de sable au-dessus de le ceinture un fois le vent apporter le son lointain de le cloche de saint-michel méloir sourire reine détourna le tête lui jeter un regard à rive breton un léger renflement de terrain lui indiquer le lieu où le manoir de saint - jean - de - grève se cacher derrière le arbre c ’ éter là que son enfance heureux s ’ éter écoulée c ’ éter là qu ’ lui avoir voir aubry pour le premièr fois – vous penser à lui damoiseau dire méloir qui vouloir railler mais dont le dent grinçaient – penser à dieu répliqua le jeune fille serein et calme en face de le dernièr heure on entendre le sourd grondement de flot méloir avoir de sable jusqu ’ à sein son main de fer se river sur le bras de reine il tourner le tête tout à coup à un bruit qui se faire maître loy bondir dans le cours de couesnon où éter déjà le mer et aubry était derrière maître loy – aubry aubry à moi crier reine par un effort méloir essayer de l ’ attirer à lui son oeil hagard dire quel éter son dessein horrible le vengeance qui lui échapper il vouloir le ressaisir et jeter à son rival vainqueur un cadavre pour fiancée – à moi aubry à moi répéter le jeune fille qui résister mais qui se sentir entraînée invinciblement – je ne mourir pas seul crier méloir au moment où son autre main aller toucher le col de reine aubry passer plus rapide qu ’ un flèche son lance avoir traversé de part en part le gorge de méloir méloir blasphéma et lâcha prise le sable cacher son blessure il n ’ avoir plus que le tête au-dessus de le tangue et le mer mouiller déjà le vêtement de reine qui lui aussi s ’ enliser lentement aubry sauter sur le sable et mettre son lance en travers pour assurer son pied – tu n ’ avoir pas le temps dire méloir en sourire au flot qui venir lui baigner le visage un visage de réprouvé le cheval dè qu ’ il sentir l ’ eau à son pied souffler et mettre le nez au vent chercher le direction de son fuite aubry se sentir défaillir car l ’ imagination ne pouvoir rêver un danger plus terrible et plus prochain que celui qui l ’ écrasait de tout part si le cheval partir reine était perdre sans ressource aubry le quitter saisir le bride de cheval et le mettre dans le gueule de maître loy en commandant – ne bouger pas le cheval révolté faire un bond – hop hop crier méloir d ’ un voix étranglé et mourant maître loy se pendre à le bride le flot passer par - dessus le tête de méloir aubry tenir reine dans son bras il sauter en selle avec son fardeau et maître loy de bondir fou de joie dans le mer montant – hop hop crier aubry à son tour l ’ eau jaillir sous le sabot de bon cheval de chevalier méloir il n ’ éter plus question son dernier soupir mettre un bulle d ’ air à le surface de flot le bulle crever ce être tout reine sourire dans le bras de son fiancé . lui remercier dieu ardemment sauvée sauvée par aubry immense joie sur le plate - forme de saint-michel Monsieur de maurever remercier dieu lui aussi car grâce à le lunette miraculeux il assister réellement à ce drame lointain et rapide que nous venir de dénouer pas par son oeil à lui le larme l ’ aveuglaient mais par le oeil de petit jeannin qui avoir saisir d ’ autorité le tube de messer jean connault et qui ne l ’ eût pas cédé au roi de france en personne le petit jeannin avoir dire tout le péripétie de le course et de le lutte seigneur jésus au moment où le doigt crispé de réprouvé avoir touché le cou de le pauvre reine le petit jeannin avoir faillir tomber à le renverse mais le lance d ’ aubry oh le bon coup de lance et le lévrier noir qui tenir dans son gueule le bride de cheval c ’ éter cela un chien bruno se dire le matois « en l ’ an le lévrier de messire aubry qui être plus avisé que bien de chrétien etc. etc .»\n",
      "\n",
      "LEAST (1655, -0.36362403631210327): «devoir l ’ étonner tout de même je n ’ avoir pas songé que j ’ avoir mon robe de noce pourquoi donc continuer -t -elle - tu faire faire de si beal habillement j ’ étais embarrassée c ’ être que je venir de me fiancer lui dire je et que je aller me marier et je me mettre à me déshabiller tout en parler à ôter le agrafe de mon soulier fin à dénouer le nœud de mon ceinture à désépingler mon coiffe de dentelle à détacher mon boucle d ’ oreille et mon collier à dénouer mon fichu de mon épaule à dépouiller mon robe de soie à replier tout cela avec soin et à le ranger dans l ’ armoire pour le noce le petit me regarder faire en s ’ émerveiller de tant de bel chose puis quand j ’ avoir finir et faire mon prière et que je être en chemise le pied nus pour me coucher oh à préser dire lui je t ’ aime bien mieux et j ’ oser t ’ embrasser ellè me faire place je souffler le lampe et je me coucher à côté de l ’ enfant oh bien à préser c ’ être bon dire lui en me passer son bras autour de cou comme lui avoir l ’ habitude de faire quand lui aller s ’ endormir mais lui éter si agitée par le vue de mon beal habit par mon absence de tout le journée et moi j ’ éter si éveillée par l ’ impression de tout ce que j ’ avoir voir et faire dans le journée et par l ’ image de cyprien que nous nous empêcher de dormir l ’ un l ’ autre et bien me dire le petit malicieux je ne m ’ endormir pas et je ne te laisser pas dormir que tu ne m ’ avoir tout dire tu aller donc te marier geneviève oui et avec qui avec m. cyprien que tu connaître bien et qui te tenir quand il venir sur son genou oh tant mieux dire lui mais m. cyprien il être de le montagne être -ce qu ’ il aller demeurer avec nous je me sentir tout honteuse devant l ’ enfant et je m ’ embarrasser pour répondre avoir le fin je penser bah il valoir autant lui dire tout de suite non que je lui dire il reste à le montagne mais toi reprendre -elle tu ne rester donc pas avec lui si lui dire je tu rester à le montagne eh oui puisque j ’ y être mariée et moi ajouter -t lui en desserrer son main d ’ autour de mon cou en le battre l ’ un contre l ’ autre j ’ aller donc rester à le montagne oh que je être aise j ’ aime tant m. cyprien son chien et son mulet le lait le pomme le oiseau le papillon on dire qu ’ il y en avoir tant là-haut quand être -ce que nous y aller mais toi je de plus en plus embarrassée de répondre toi tu n ’ y venir pas mon enfant tu rester à voiron chez ton maîtresse qui t ’ apprendre le dentelle lui t ’ élever avec son enfant lui avoir bien soin de toi je venir te voir souvent tu être bien heureux méchante s ’ écrier l ’ enfant tu me laisser tu avoir bien le cœur de t ’ en aller sans moi sans moi qui ne t ’ avoir pas plus quittée que ton chemise depuis que je être venir au monde sans moi qui avoir toujours vécu mangé couché avec toi comme si j ’ éter ton fille sans moi qui n ’ avoir pas seulement pouvoir m ’ endormir un heure aujourd ’ hui parceque je n ’ éter pas couchée là avec toi méchante répéter -t -elle avec un accent de colère et en me frapper le sein avec son petit main si tu avoir bien le cœur de faire cela tu n ’ avoir pas besoin de revenir ni souvent ni un fois à voiron aller tu ne me retrouver pas je être bientôt au cimetière à côté de mon mère et je lui dire que tu m ’ avoir laissée comme un menteur toi qui dire toujours que tu lui avoir promettre quand lui être partir pour l ’ église de tenir son place auprès de moi et puis lui se mettre à pleurer xxxix vous sentir Monsieur que je n ’ éter pas à mon aise en écouter ce simple petit parler ainsi je commençer à me douter que j ’ avoir agir légèrement et par emportement d ’ amour avec cyprien car enfin l ’ enfant avoir raison je lui avoir servir de mère je ne l ’ avoir jamais quittée que ce jour - là dans tout son vie je lui avoir dire fois ce que j ’ avoir dire à notre mère que je mourir plutôt que de l ’ abandonner et voilà que j ’ aller me marier et le laisser comme un orphelin à soin d ’ un étrangère oh le remords me serrer le gorge que je ne pouvoir ni parler ni respirer ni sanglotter je commençer à me repentir de ce que j ’ avoir promettre à cyprien et puis cependant je l ’ aimai tant que je ne pouvoir me repentir de l ’ aimer d ’ un côté le petit de l ’ autre mon fiancé puis mon promesse à l ’ église le matin en face de tout le village et puis mon promesse à mon mère là-haut en face de le mort et de dieu je me retourner en moi même et je me retourner dans le lit sans pouvoir trouver un bon place ni échapper à l ’ enfant ni échapper à l ’ image de cyprien ni échapper à l ’ ombre de mon mère ni échapper à mon propre cœur ah Monsieur le terrible nuit il n ’ y en avoir pas de pire j ’ en être sûre dans l ’ enfer je rougir je pâlissais j ’ avoir le sueur froid sur le membre je brûler j ’ éter transir j ’ avoir le fièvre el le petit se retourner chaque fois que je me retourner pour l ’ éviter et continuer à me reprocher toujours mais»\n",
      "\n"
     ]
    }
   ],
   "source": [
    "import random\n",
    "\n",
    "# Pick a random document from the test corpus and infer a vector from the model\n",
    "doc_id = random.randint(0, len(test_corpus) - 1)\n",
    "inferred_vector = model.infer_vector(test_corpus[doc_id])\n",
    "sims = model.dv.most_similar([inferred_vector], topn=len(model.dv))\n",
    "\n",
    "# Compare and print the most/median/least similar documents from the train corpus\n",
    "print('Test Document ({}): «{}»\\n'.format(doc_id, ' '.join(test_corpus[doc_id])))\n",
    "print(u'SIMILAR/DISSIMILAR DOCS PER MODEL %s:\\n' % model)\n",
    "for label, index in [('MOST', 0), ('MEDIAN', len(sims)//2), ('LEAST', len(sims) - 1)]:\n",
    "    print(u'%s %s: «%s»\\n' % (label, sims[index], ' '.join(train_corpus[sims[index][0]].words)))"
   ]
  }
 ],
 "metadata": {
  "kernelspec": {
   "display_name": "Python 3",
   "language": "python",
   "name": "python3"
  },
  "language_info": {
   "codemirror_mode": {
    "name": "ipython",
    "version": 3
   },
   "file_extension": ".py",
   "mimetype": "text/x-python",
   "name": "python",
   "nbconvert_exporter": "python",
   "pygments_lexer": "ipython3",
   "version": "3.9.2"
  }
 },
 "nbformat": 4,
 "nbformat_minor": 4
}
