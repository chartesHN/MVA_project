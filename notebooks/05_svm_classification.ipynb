{
 "cells": [
  {
   "cell_type": "code",
   "execution_count": 1,
   "metadata": {},
   "outputs": [],
   "source": [
    "import pandas as pd\n",
    "import numpy as np\n",
    "import re\n",
    "from sklearn import set_config\n",
    "import sklearn.metrics as metrics\n",
    "from sklearn.pipeline import make_pipeline\n",
    "from sklearn.preprocessing import StandardScaler\n",
    "from sklearn.svm import SVC\n",
    "from sklearn.linear_model import LogisticRegression\n",
    "from sklearn.model_selection import train_test_split\n",
    "from sklearn.preprocessing import Normalizer\n",
    "from sklearn.model_selection import cross_validate\n",
    "from sklearn.model_selection import ShuffleSplit"
   ]
  },
  {
   "cell_type": "code",
   "execution_count": 2,
   "metadata": {},
   "outputs": [],
   "source": [
    "from sklearn.metrics import r2_score\n",
    "from sklearn.metrics import mean_absolute_error\n",
    "from sklearn.metrics import mean_squared_error"
   ]
  },
  {
   "cell_type": "code",
   "execution_count": 3,
   "metadata": {},
   "outputs": [],
   "source": [
    "set_config(display='diagram')"
   ]
  },
  {
   "cell_type": "code",
   "execution_count": 49,
   "metadata": {},
   "outputs": [],
   "source": [
    "def canonizer(data, test_size=0.1, nb_coef=20, random_state=42, cross_validation=False, kernel='rbf'):\n",
    "    \n",
    "    df_results = pd.DataFrame()\n",
    "    \n",
    "    if cross_validation == True:\n",
    "        pipe = make_pipeline(StandardScaler(), SVC(kernel=kernel, probability=True))\n",
    "        cv_results = cross_validate(pipe, data.drop(['canonicity_rate'], axis=1), data['canonicity_rate'], cv=cv)\n",
    "        return pipe, cv_results\n",
    "    \n",
    "    else:\n",
    "        pipe = make_pipeline(StandardScaler(), SVC(kernel=kernel, probability=True))   \n",
    "\n",
    "        X_train, X_test, y_train, y_test = train_test_split(data.drop(['canonicity_rate'], axis=1), data['canonicity_rate'], test_size=test_size, random_state=random_state)        \n",
    "\n",
    "        pipe.fit(X_train, y_train)\n",
    "        \n",
    "        print(metrics.classification_report(y_test, pipe.predict(X_test)))\n",
    "        \n",
    "        # for non binary labels\n",
    "        canonicity_predictions = pipe.predict(X_test)\n",
    "        r2 = r2_score(y_test, canonicity_predictions)\n",
    "        mae = mean_absolute_error(y_test, canonicity_predictions)\n",
    "        mse = mean_squared_error(y_test, canonicity_predictions)\n",
    "        rmse = mean_squared_error(y_test, canonicity_predictions, squared=False)\n",
    "        print(\"r2 : %0.1f%% \" % (r2 * 100))\n",
    "        print(\"mean_absolute_error : \", mae)\n",
    "        print(\"mean_squared_error : \", mse)\n",
    "        print(\"root mean_squared_error : \", rmse)\n",
    "        \n",
    "        if kernel == 'linear':\n",
    "            coefs = pipe.named_steps['svc'].coef_\n",
    "            plot_coefficients(*coefs, data.columns, nb_coef)\n",
    "            \n",
    "        df_results['metadata'] = y_test\n",
    "        df_results['proba canon'] = pipe.predict_proba(X_test)[:,0]\n",
    "        df_results['proba non-canon'] = pipe.predict_proba(X_test)[:,1]\n",
    "        df_results['prediction']= pipe.predict(X_test)\n",
    "    \n",
    "        df_results['accord'] = [True if row['metadata'] == row['prediction'] else False for index, row in df_results.iterrows()]\n",
    "    \n",
    "    \n",
    "    return pipe, df_results"
   ]
  },
  {
   "cell_type": "code",
   "execution_count": null,
   "metadata": {},
   "outputs": [],
   "source": []
  },
  {
   "cell_type": "markdown",
   "metadata": {},
   "source": [
    "# BoW features "
   ]
  },
  {
   "cell_type": "code",
   "execution_count": 4,
   "metadata": {},
   "outputs": [],
   "source": [
    "df_main = pd.read_csv(r'../features/chunks_BoW_features2.csv')\n",
    "df_main.set_index(\"index\", inplace = True)\n",
    "df_main = df_main.replace(np.nan, 0)"
   ]
  },
  {
   "cell_type": "code",
   "execution_count": 29,
   "metadata": {},
   "outputs": [],
   "source": [
    "def retrieve_canonicity(index_name):\n",
    "    list_canonicity = []\n",
    "    for titre in index_name:\n",
    "        temp_tag = titre.split('_')[3]\n",
    "        list_canonicity.append(temp_tag)\n",
    "    return list_canonicity"
   ]
  },
  {
   "cell_type": "code",
   "execution_count": 7,
   "metadata": {},
   "outputs": [],
   "source": [
    "list_canonicity = retrieve_canonicity(df_main.index)"
   ]
  },
  {
   "cell_type": "code",
   "execution_count": 8,
   "metadata": {},
   "outputs": [],
   "source": [
    "df_main['canonicity'] = list_canonicity"
   ]
  },
  {
   "cell_type": "code",
   "execution_count": 52,
   "metadata": {},
   "outputs": [
    {
     "name": "stdout",
     "output_type": "stream",
     "text": [
      "              precision    recall  f1-score   support\n",
      "\n",
      "       canon       0.90      0.87      0.88       689\n",
      "    noncanon       0.90      0.92      0.91       899\n",
      "\n",
      "    accuracy                           0.90      1588\n",
      "   macro avg       0.90      0.89      0.90      1588\n",
      "weighted avg       0.90      0.90      0.90      1588\n",
      "\n"
     ]
    }
   ],
   "source": [
    "pipe, df_results = canonizer(df_main)"
   ]
  },
  {
   "cell_type": "code",
   "execution_count": 40,
   "metadata": {},
   "outputs": [
    {
     "name": "stdout",
     "output_type": "stream",
     "text": [
      "              precision    recall  f1-score   support\n",
      "\n",
      "       canon       0.87      0.90      0.88      1772\n",
      "    noncanon       0.87      0.83      0.85      1413\n",
      "\n",
      "    accuracy                           0.87      3185\n",
      "   macro avg       0.87      0.87      0.87      3185\n",
      "weighted avg       0.87      0.87      0.87      3185\n",
      "\n"
     ]
    }
   ],
   "source": [
    "pipe, df_results = canonizer(df_main)"
   ]
  },
  {
   "cell_type": "markdown",
   "metadata": {},
   "source": [
    "## Get canonicity ratings"
   ]
  },
  {
   "cell_type": "code",
   "execution_count": 24,
   "metadata": {},
   "outputs": [],
   "source": [
    "df_corpus = pd.read_csv(r'../../working_progress/meta_data/df_corpus_rate_canonicity.csv')"
   ]
  },
  {
   "cell_type": "code",
   "execution_count": 25,
   "metadata": {},
   "outputs": [],
   "source": [
    "def title(df_main):\n",
    "\n",
    "    liste_titre = []\n",
    "    \n",
    "    for doc_name in list(df_main.index):\n",
    "        \n",
    "        date = doc_name.split(\"_\")[0]\n",
    "        auteur = doc_name.split(\"_\")[1]\n",
    "        titre = doc_name.split(\"_\")[2]\n",
    "        liste_titre.append(titre)\n",
    "        \n",
    "    return net_title(liste_titre)"
   ]
  },
  {
   "cell_type": "code",
   "execution_count": 26,
   "metadata": {},
   "outputs": [],
   "source": [
    "def net_title(liste_titre):\n",
    "    liste_result = []\n",
    "    for titre in liste_titre:\n",
    "        temp = re.sub(\"-\", \" \", titre)\n",
    "        liste_result.append(temp.lower()) \n",
    "    return liste_result"
   ]
  },
  {
   "cell_type": "code",
   "execution_count": 41,
   "metadata": {},
   "outputs": [],
   "source": [
    "def get_canonicity_rate(df_main, df_corpus):\n",
    "    canonicity_list = []\n",
    "    list_title = title(df_main)\n",
    "    for titre in list_title:\n",
    "        row = df_corpus.loc[df_corpus['titre'] == titre]\n",
    "        if row.values.any():\n",
    "            canonicity_list.append(int(row[\"canonicity_1\"].values[0]))\n",
    "        else:\n",
    "            canonicity_list.append(0)\n",
    "    return canonicity_list"
   ]
  },
  {
   "cell_type": "code",
   "execution_count": 42,
   "metadata": {},
   "outputs": [],
   "source": [
    "canonicity_list = get_canonicity_rate(df_main, df_corpus)"
   ]
  },
  {
   "cell_type": "code",
   "execution_count": 43,
   "metadata": {},
   "outputs": [],
   "source": [
    "df_rate = df_main.drop([\"canonicity\"], axis=1)"
   ]
  },
  {
   "cell_type": "code",
   "execution_count": 44,
   "metadata": {},
   "outputs": [],
   "source": [
    "df_rate[\"canonicity_rate\"] = canonicity_list"
   ]
  },
  {
   "cell_type": "code",
   "execution_count": 45,
   "metadata": {},
   "outputs": [
    {
     "data": {
      "text/plain": [
       "0    16417\n",
       "3     9542\n",
       "5     5549\n",
       "2      333\n",
       "Name: canonicity_rate, dtype: int64"
      ]
     },
     "execution_count": 45,
     "metadata": {},
     "output_type": "execute_result"
    }
   ],
   "source": [
    "df_rate.canonicity_rate.value_counts()"
   ]
  },
  {
   "cell_type": "code",
   "execution_count": 46,
   "metadata": {},
   "outputs": [
    {
     "data": {
      "text/plain": [
       "0    0.515593\n",
       "3    0.299677\n",
       "5    0.174272\n",
       "2    0.010458\n",
       "Name: canonicity_rate, dtype: float64"
      ]
     },
     "execution_count": 46,
     "metadata": {},
     "output_type": "execute_result"
    }
   ],
   "source": [
    "df_rate.canonicity_rate.value_counts(normalize=True)"
   ]
  },
  {
   "cell_type": "code",
   "execution_count": 50,
   "metadata": {},
   "outputs": [
    {
     "name": "stdout",
     "output_type": "stream",
     "text": [
      "              precision    recall  f1-score   support\n",
      "\n",
      "           0       0.82      0.91      0.86      1656\n",
      "           2       1.00      0.21      0.35        33\n",
      "           3       0.69      0.66      0.68       962\n",
      "           5       0.75      0.59      0.66       534\n",
      "\n",
      "    accuracy                           0.77      3185\n",
      "   macro avg       0.81      0.59      0.64      3185\n",
      "weighted avg       0.77      0.77      0.76      3185\n",
      "\n",
      "r2 : 44.8% \n",
      "mean_absolute_error :  0.6621664050235478\n",
      "mean_squared_error :  2.118995290423862\n",
      "root mean_squared_error :  1.4556769182836766\n"
     ]
    }
   ],
   "source": [
    "pipe_rate, df_results_rate = canonizer(df_rate)"
   ]
  },
  {
   "cell_type": "code",
   "execution_count": null,
   "metadata": {},
   "outputs": [],
   "source": []
  },
  {
   "cell_type": "code",
   "execution_count": null,
   "metadata": {},
   "outputs": [],
   "source": []
  },
  {
   "cell_type": "markdown",
   "metadata": {},
   "source": [
    "# LDA features "
   ]
  },
  {
   "cell_type": "code",
   "execution_count": 15,
   "metadata": {},
   "outputs": [],
   "source": [
    "df_lda = pd.read_csv(r'../features/lda_features.csv')\n",
    "df_lda.set_index(\"Unnamed: 0\", inplace = True)\n",
    "df_lda = df_lda.replace(np.nan, 0)"
   ]
  },
  {
   "cell_type": "code",
   "execution_count": 31,
   "metadata": {},
   "outputs": [],
   "source": [
    "list_canonicity = retrieve_canonicity(df_lda.index)\n",
    "df_lda['canonicity'] = list_canonicity"
   ]
  },
  {
   "cell_type": "code",
   "execution_count": 39,
   "metadata": {},
   "outputs": [
    {
     "name": "stdout",
     "output_type": "stream",
     "text": [
      "              precision    recall  f1-score   support\n",
      "\n",
      "       canon       0.60      0.77      0.68      1738\n",
      "    noncanon       0.59      0.39      0.47      1447\n",
      "\n",
      "    accuracy                           0.60      3185\n",
      "   macro avg       0.60      0.58      0.57      3185\n",
      "weighted avg       0.60      0.60      0.58      3185\n",
      "\n"
     ]
    }
   ],
   "source": [
    "pipe_lda, df_results_lda = canonizer(df_lda)"
   ]
  },
  {
   "cell_type": "code",
   "execution_count": null,
   "metadata": {},
   "outputs": [],
   "source": []
  },
  {
   "cell_type": "code",
   "execution_count": 35,
   "metadata": {},
   "outputs": [],
   "source": [
    "df_lda_50 = pd.read_csv(r'../features/lda_features_50_topics.csv')\n",
    "df_lda_50.set_index(\"Unnamed: 0\", inplace = True)\n",
    "df_lda_50 = df_lda.replace(np.nan, 0)"
   ]
  },
  {
   "cell_type": "code",
   "execution_count": 36,
   "metadata": {},
   "outputs": [],
   "source": [
    "list_canonicity = retrieve_canonicity(df_lda_50.index)\n",
    "df_lda['canonicity'] = list_canonicity"
   ]
  },
  {
   "cell_type": "code",
   "execution_count": 37,
   "metadata": {},
   "outputs": [
    {
     "name": "stdout",
     "output_type": "stream",
     "text": [
      "              precision    recall  f1-score   support\n",
      "\n",
      "       canon       0.60      0.77      0.68      1738\n",
      "    noncanon       0.59      0.39      0.47      1447\n",
      "\n",
      "    accuracy                           0.60      3185\n",
      "   macro avg       0.60      0.58      0.57      3185\n",
      "weighted avg       0.60      0.60      0.58      3185\n",
      "\n"
     ]
    }
   ],
   "source": [
    "pipe_lda_50, df_results_lda_50 = canonizer(df_lda_50)"
   ]
  },
  {
   "cell_type": "code",
   "execution_count": 38,
   "metadata": {},
   "outputs": [
    {
     "data": {
      "text/html": [
       "<style>#sk-d34216e3-b60f-4235-817c-54bfe3855130 {color: black;background-color: white;}#sk-d34216e3-b60f-4235-817c-54bfe3855130 pre{padding: 0;}#sk-d34216e3-b60f-4235-817c-54bfe3855130 div.sk-toggleable {background-color: white;}#sk-d34216e3-b60f-4235-817c-54bfe3855130 label.sk-toggleable__label {cursor: pointer;display: block;width: 100%;margin-bottom: 0;padding: 0.3em;box-sizing: border-box;text-align: center;}#sk-d34216e3-b60f-4235-817c-54bfe3855130 label.sk-toggleable__label-arrow:before {content: \"▸\";float: left;margin-right: 0.25em;color: #696969;}#sk-d34216e3-b60f-4235-817c-54bfe3855130 label.sk-toggleable__label-arrow:hover:before {color: black;}#sk-d34216e3-b60f-4235-817c-54bfe3855130 div.sk-estimator:hover label.sk-toggleable__label-arrow:before {color: black;}#sk-d34216e3-b60f-4235-817c-54bfe3855130 div.sk-toggleable__content {max-height: 0;max-width: 0;overflow: hidden;text-align: left;background-color: #f0f8ff;}#sk-d34216e3-b60f-4235-817c-54bfe3855130 div.sk-toggleable__content pre {margin: 0.2em;color: black;border-radius: 0.25em;background-color: #f0f8ff;}#sk-d34216e3-b60f-4235-817c-54bfe3855130 input.sk-toggleable__control:checked~div.sk-toggleable__content {max-height: 200px;max-width: 100%;overflow: auto;}#sk-d34216e3-b60f-4235-817c-54bfe3855130 input.sk-toggleable__control:checked~label.sk-toggleable__label-arrow:before {content: \"▾\";}#sk-d34216e3-b60f-4235-817c-54bfe3855130 div.sk-estimator input.sk-toggleable__control:checked~label.sk-toggleable__label {background-color: #d4ebff;}#sk-d34216e3-b60f-4235-817c-54bfe3855130 div.sk-label input.sk-toggleable__control:checked~label.sk-toggleable__label {background-color: #d4ebff;}#sk-d34216e3-b60f-4235-817c-54bfe3855130 input.sk-hidden--visually {border: 0;clip: rect(1px 1px 1px 1px);clip: rect(1px, 1px, 1px, 1px);height: 1px;margin: -1px;overflow: hidden;padding: 0;position: absolute;width: 1px;}#sk-d34216e3-b60f-4235-817c-54bfe3855130 div.sk-estimator {font-family: monospace;background-color: #f0f8ff;border: 1px dotted black;border-radius: 0.25em;box-sizing: border-box;margin-bottom: 0.5em;}#sk-d34216e3-b60f-4235-817c-54bfe3855130 div.sk-estimator:hover {background-color: #d4ebff;}#sk-d34216e3-b60f-4235-817c-54bfe3855130 div.sk-parallel-item::after {content: \"\";width: 100%;border-bottom: 1px solid gray;flex-grow: 1;}#sk-d34216e3-b60f-4235-817c-54bfe3855130 div.sk-label:hover label.sk-toggleable__label {background-color: #d4ebff;}#sk-d34216e3-b60f-4235-817c-54bfe3855130 div.sk-serial::before {content: \"\";position: absolute;border-left: 1px solid gray;box-sizing: border-box;top: 2em;bottom: 0;left: 50%;}#sk-d34216e3-b60f-4235-817c-54bfe3855130 div.sk-serial {display: flex;flex-direction: column;align-items: center;background-color: white;padding-right: 0.2em;padding-left: 0.2em;}#sk-d34216e3-b60f-4235-817c-54bfe3855130 div.sk-item {z-index: 1;}#sk-d34216e3-b60f-4235-817c-54bfe3855130 div.sk-parallel {display: flex;align-items: stretch;justify-content: center;background-color: white;}#sk-d34216e3-b60f-4235-817c-54bfe3855130 div.sk-parallel::before {content: \"\";position: absolute;border-left: 1px solid gray;box-sizing: border-box;top: 2em;bottom: 0;left: 50%;}#sk-d34216e3-b60f-4235-817c-54bfe3855130 div.sk-parallel-item {display: flex;flex-direction: column;position: relative;background-color: white;}#sk-d34216e3-b60f-4235-817c-54bfe3855130 div.sk-parallel-item:first-child::after {align-self: flex-end;width: 50%;}#sk-d34216e3-b60f-4235-817c-54bfe3855130 div.sk-parallel-item:last-child::after {align-self: flex-start;width: 50%;}#sk-d34216e3-b60f-4235-817c-54bfe3855130 div.sk-parallel-item:only-child::after {width: 0;}#sk-d34216e3-b60f-4235-817c-54bfe3855130 div.sk-dashed-wrapped {border: 1px dashed gray;margin: 0 0.4em 0.5em 0.4em;box-sizing: border-box;padding-bottom: 0.4em;background-color: white;position: relative;}#sk-d34216e3-b60f-4235-817c-54bfe3855130 div.sk-label label {font-family: monospace;font-weight: bold;background-color: white;display: inline-block;line-height: 1.2em;}#sk-d34216e3-b60f-4235-817c-54bfe3855130 div.sk-label-container {position: relative;z-index: 2;text-align: center;}#sk-d34216e3-b60f-4235-817c-54bfe3855130 div.sk-container {/* jupyter's `normalize.less` sets `[hidden] { display: none; }` but bootstrap.min.css set `[hidden] { display: none !important; }` so we also need the `!important` here to be able to override the default hidden behavior on the sphinx rendered scikit-learn.org. See: https://github.com/scikit-learn/scikit-learn/issues/21755 */display: inline-block !important;position: relative;}#sk-d34216e3-b60f-4235-817c-54bfe3855130 div.sk-text-repr-fallback {display: none;}</style><div id=\"sk-d34216e3-b60f-4235-817c-54bfe3855130\" class=\"sk-top-container\"><div class=\"sk-text-repr-fallback\"><pre>Pipeline(steps=[(&#x27;standardscaler&#x27;, StandardScaler()),\n",
       "                (&#x27;svc&#x27;, SVC(probability=True))])</pre><b>Please rerun this cell to show the HTML repr or trust the notebook.</b></div><div class=\"sk-container\" hidden><div class=\"sk-item sk-dashed-wrapped\"><div class=\"sk-label-container\"><div class=\"sk-label sk-toggleable\"><input class=\"sk-toggleable__control sk-hidden--visually\" id=\"8f943c61-a025-4185-ab5a-b0d01a4676ad\" type=\"checkbox\" ><label for=\"8f943c61-a025-4185-ab5a-b0d01a4676ad\" class=\"sk-toggleable__label sk-toggleable__label-arrow\">Pipeline</label><div class=\"sk-toggleable__content\"><pre>Pipeline(steps=[(&#x27;standardscaler&#x27;, StandardScaler()),\n",
       "                (&#x27;svc&#x27;, SVC(probability=True))])</pre></div></div></div><div class=\"sk-serial\"><div class=\"sk-item\"><div class=\"sk-estimator sk-toggleable\"><input class=\"sk-toggleable__control sk-hidden--visually\" id=\"fc2a21fa-cb4c-47e3-82c6-2c2db0a9cee9\" type=\"checkbox\" ><label for=\"fc2a21fa-cb4c-47e3-82c6-2c2db0a9cee9\" class=\"sk-toggleable__label sk-toggleable__label-arrow\">StandardScaler</label><div class=\"sk-toggleable__content\"><pre>StandardScaler()</pre></div></div></div><div class=\"sk-item\"><div class=\"sk-estimator sk-toggleable\"><input class=\"sk-toggleable__control sk-hidden--visually\" id=\"e7457752-e47c-4891-8ab1-cca6e2492b4c\" type=\"checkbox\" ><label for=\"e7457752-e47c-4891-8ab1-cca6e2492b4c\" class=\"sk-toggleable__label sk-toggleable__label-arrow\">SVC</label><div class=\"sk-toggleable__content\"><pre>SVC(probability=True)</pre></div></div></div></div></div></div></div>"
      ],
      "text/plain": [
       "Pipeline(steps=[('standardscaler', StandardScaler()),\n",
       "                ('svc', SVC(probability=True))])"
      ]
     },
     "execution_count": 38,
     "metadata": {},
     "output_type": "execute_result"
    }
   ],
   "source": [
    "pipe_lda_50"
   ]
  },
  {
   "cell_type": "markdown",
   "metadata": {},
   "source": [
    "# DBoW neural embeddings features "
   ]
  },
  {
   "cell_type": "code",
   "execution_count": null,
   "metadata": {},
   "outputs": [],
   "source": []
  }
 ],
 "metadata": {
  "kernelspec": {
   "display_name": "Python 3",
   "language": "python",
   "name": "python3"
  },
  "language_info": {
   "codemirror_mode": {
    "name": "ipython",
    "version": 3
   },
   "file_extension": ".py",
   "mimetype": "text/x-python",
   "name": "python",
   "nbconvert_exporter": "python",
   "pygments_lexer": "ipython3",
   "version": "3.8.8"
  }
 },
 "nbformat": 4,
 "nbformat_minor": 4
}
