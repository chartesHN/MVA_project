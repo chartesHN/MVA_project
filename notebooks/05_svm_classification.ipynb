{
 "cells": [
  {
   "cell_type": "code",
   "execution_count": 38,
   "metadata": {},
   "outputs": [],
   "source": [
    "import pandas as pd\n",
    "import numpy as np\n",
    "from sklearn import set_config\n",
    "import sklearn.metrics as metrics\n",
    "from sklearn.pipeline import make_pipeline\n",
    "from sklearn.preprocessing import StandardScaler\n",
    "from sklearn.svm import SVC\n",
    "from sklearn.linear_model import LogisticRegression\n",
    "from sklearn.model_selection import train_test_split\n",
    "from sklearn.preprocessing import Normalizer\n",
    "from sklearn.model_selection import cross_validate\n",
    "from sklearn.model_selection import ShuffleSplit"
   ]
  },
  {
   "cell_type": "code",
   "execution_count": 54,
   "metadata": {},
   "outputs": [],
   "source": [
    "from sklearn.metrics import r2_score\n",
    "from sklearn.metrics import mean_absolute_error\n",
    "from sklearn.metrics import mean_squared_error"
   ]
  },
  {
   "cell_type": "code",
   "execution_count": 2,
   "metadata": {},
   "outputs": [],
   "source": [
    "set_config(display='diagram')"
   ]
  },
  {
   "cell_type": "code",
   "execution_count": 55,
   "metadata": {},
   "outputs": [],
   "source": [
    "def canonizer(data, test_size=0.1, nb_coef=20, random_state=42, cross_validation=False, kernel='rbf'):\n",
    "    \n",
    "    df_results = pd.DataFrame()\n",
    "    \n",
    "    if cross_validation == True:\n",
    "        pipe = make_pipeline(StandardScaler(), SVC(kernel=kernel, probability=True))\n",
    "        cv_results = cross_validate(pipe, data.drop(['canonicity'], axis=1), data['canonicity'], cv=cv)\n",
    "        return pipe, cv_results\n",
    "    \n",
    "    else:\n",
    "        pipe = make_pipeline(StandardScaler(), SVC(kernel=kernel, probability=True))   \n",
    "\n",
    "        X_train, X_test, y_train, y_test = train_test_split(data.drop(['canonicity'], axis=1), data['canonicity'], test_size=test_size, random_state=random_state)        \n",
    "\n",
    "        pipe.fit(X_train, y_train)\n",
    "        \n",
    "        print(metrics.classification_report(y_test, pipe.predict(X_test)))\n",
    "        \n",
    "        canonicity_predictions = pipe.predict(X_test)\n",
    "\n",
    "        #r2 = r2_score(y_test, canonicity_predictions)\n",
    "        #mae = mean_absolute_error(y_test, canonicity_predictions)\n",
    "        #mse = mean_squared_error(y_test, canonicity_predictions)\n",
    "        #print(\"r2 : %0.1f%% \" % (r2 * 100))\n",
    "        #print(\"mean_absolute_error : \", mae)\n",
    "        #print(\"mean_squared_error : \", mse)\n",
    "        #print(\"root mean_squared_error : \", np.sqrt(mse))\n",
    "        \n",
    "        if kernel == 'linear':\n",
    "            coefs = pipe.named_steps['svc'].coef_\n",
    "            plot_coefficients(*coefs, data.columns, nb_coef)\n",
    "            \n",
    "        df_results['metadata'] = y_test\n",
    "        df_results['proba canon'] = pipe.predict_proba(X_test)[:,0]\n",
    "        df_results['proba non-canon'] = pipe.predict_proba(X_test)[:,1]\n",
    "        df_results['prediction']= pipe.predict(X_test)\n",
    "    \n",
    "        df_results['accord'] = [True if row['metadata'] == row['prediction'] else False for index, row in df_results.iterrows()]\n",
    "    \n",
    "    \n",
    "    return pipe, df_results"
   ]
  },
  {
   "cell_type": "code",
   "execution_count": null,
   "metadata": {},
   "outputs": [],
   "source": []
  },
  {
   "cell_type": "markdown",
   "metadata": {},
   "source": [
    "# BoW features "
   ]
  },
  {
   "cell_type": "code",
   "execution_count": 3,
   "metadata": {},
   "outputs": [],
   "source": [
    "df_main = pd.read_csv(r'../data/01_chunks_BoW_features.csv')\n",
    "df_main.set_index(\"index\", inplace = True)\n",
    "df_main = df_main.replace(np.nan, 0)"
   ]
  },
  {
   "cell_type": "code",
   "execution_count": null,
   "metadata": {},
   "outputs": [],
   "source": []
  },
  {
   "cell_type": "code",
   "execution_count": 23,
   "metadata": {},
   "outputs": [],
   "source": [
    "def retrieve_canonicity(index_name):\n",
    "    list_canonicity = []\n",
    "    for titre in index_name:\n",
    "        temp_tag = titre.split('_')[3]\n",
    "        list_canonicity.append(temp_tag)\n",
    "    return list_canonicity"
   ]
  },
  {
   "cell_type": "code",
   "execution_count": 24,
   "metadata": {},
   "outputs": [],
   "source": [
    "list_canonicity = retrieve_canonicity(df_main.index)"
   ]
  },
  {
   "cell_type": "code",
   "execution_count": 26,
   "metadata": {},
   "outputs": [],
   "source": [
    "df_main['canonicity'] = list_canonicity"
   ]
  },
  {
   "cell_type": "code",
   "execution_count": null,
   "metadata": {},
   "outputs": [],
   "source": []
  },
  {
   "cell_type": "code",
   "execution_count": 34,
   "metadata": {},
   "outputs": [
    {
     "name": "stdout",
     "output_type": "stream",
     "text": [
      "              precision    recall  f1-score   support\n",
      "\n",
      "       canon       0.90      0.85      0.88      1385\n",
      "    noncanon       0.89      0.93      0.91      1791\n",
      "\n",
      "    accuracy                           0.90      3176\n",
      "   macro avg       0.90      0.89      0.89      3176\n",
      "weighted avg       0.90      0.90      0.90      3176\n",
      "\n"
     ]
    }
   ],
   "source": [
    "pipe_main, df_results_main = canonizer(df_main)"
   ]
  },
  {
   "cell_type": "code",
   "execution_count": 35,
   "metadata": {},
   "outputs": [
    {
     "data": {
      "text/html": [
       "<style>#sk-dee17724-cbad-4315-ad96-123a1dcbed2a {color: black;background-color: white;}#sk-dee17724-cbad-4315-ad96-123a1dcbed2a pre{padding: 0;}#sk-dee17724-cbad-4315-ad96-123a1dcbed2a div.sk-toggleable {background-color: white;}#sk-dee17724-cbad-4315-ad96-123a1dcbed2a label.sk-toggleable__label {cursor: pointer;display: block;width: 100%;margin-bottom: 0;padding: 0.3em;box-sizing: border-box;text-align: center;}#sk-dee17724-cbad-4315-ad96-123a1dcbed2a label.sk-toggleable__label-arrow:before {content: \"▸\";float: left;margin-right: 0.25em;color: #696969;}#sk-dee17724-cbad-4315-ad96-123a1dcbed2a label.sk-toggleable__label-arrow:hover:before {color: black;}#sk-dee17724-cbad-4315-ad96-123a1dcbed2a div.sk-estimator:hover label.sk-toggleable__label-arrow:before {color: black;}#sk-dee17724-cbad-4315-ad96-123a1dcbed2a div.sk-toggleable__content {max-height: 0;max-width: 0;overflow: hidden;text-align: left;background-color: #f0f8ff;}#sk-dee17724-cbad-4315-ad96-123a1dcbed2a div.sk-toggleable__content pre {margin: 0.2em;color: black;border-radius: 0.25em;background-color: #f0f8ff;}#sk-dee17724-cbad-4315-ad96-123a1dcbed2a input.sk-toggleable__control:checked~div.sk-toggleable__content {max-height: 200px;max-width: 100%;overflow: auto;}#sk-dee17724-cbad-4315-ad96-123a1dcbed2a input.sk-toggleable__control:checked~label.sk-toggleable__label-arrow:before {content: \"▾\";}#sk-dee17724-cbad-4315-ad96-123a1dcbed2a div.sk-estimator input.sk-toggleable__control:checked~label.sk-toggleable__label {background-color: #d4ebff;}#sk-dee17724-cbad-4315-ad96-123a1dcbed2a div.sk-label input.sk-toggleable__control:checked~label.sk-toggleable__label {background-color: #d4ebff;}#sk-dee17724-cbad-4315-ad96-123a1dcbed2a input.sk-hidden--visually {border: 0;clip: rect(1px 1px 1px 1px);clip: rect(1px, 1px, 1px, 1px);height: 1px;margin: -1px;overflow: hidden;padding: 0;position: absolute;width: 1px;}#sk-dee17724-cbad-4315-ad96-123a1dcbed2a div.sk-estimator {font-family: monospace;background-color: #f0f8ff;border: 1px dotted black;border-radius: 0.25em;box-sizing: border-box;margin-bottom: 0.5em;}#sk-dee17724-cbad-4315-ad96-123a1dcbed2a div.sk-estimator:hover {background-color: #d4ebff;}#sk-dee17724-cbad-4315-ad96-123a1dcbed2a div.sk-parallel-item::after {content: \"\";width: 100%;border-bottom: 1px solid gray;flex-grow: 1;}#sk-dee17724-cbad-4315-ad96-123a1dcbed2a div.sk-label:hover label.sk-toggleable__label {background-color: #d4ebff;}#sk-dee17724-cbad-4315-ad96-123a1dcbed2a div.sk-serial::before {content: \"\";position: absolute;border-left: 1px solid gray;box-sizing: border-box;top: 2em;bottom: 0;left: 50%;}#sk-dee17724-cbad-4315-ad96-123a1dcbed2a div.sk-serial {display: flex;flex-direction: column;align-items: center;background-color: white;padding-right: 0.2em;padding-left: 0.2em;}#sk-dee17724-cbad-4315-ad96-123a1dcbed2a div.sk-item {z-index: 1;}#sk-dee17724-cbad-4315-ad96-123a1dcbed2a div.sk-parallel {display: flex;align-items: stretch;justify-content: center;background-color: white;}#sk-dee17724-cbad-4315-ad96-123a1dcbed2a div.sk-parallel::before {content: \"\";position: absolute;border-left: 1px solid gray;box-sizing: border-box;top: 2em;bottom: 0;left: 50%;}#sk-dee17724-cbad-4315-ad96-123a1dcbed2a div.sk-parallel-item {display: flex;flex-direction: column;position: relative;background-color: white;}#sk-dee17724-cbad-4315-ad96-123a1dcbed2a div.sk-parallel-item:first-child::after {align-self: flex-end;width: 50%;}#sk-dee17724-cbad-4315-ad96-123a1dcbed2a div.sk-parallel-item:last-child::after {align-self: flex-start;width: 50%;}#sk-dee17724-cbad-4315-ad96-123a1dcbed2a div.sk-parallel-item:only-child::after {width: 0;}#sk-dee17724-cbad-4315-ad96-123a1dcbed2a div.sk-dashed-wrapped {border: 1px dashed gray;margin: 0 0.4em 0.5em 0.4em;box-sizing: border-box;padding-bottom: 0.4em;background-color: white;position: relative;}#sk-dee17724-cbad-4315-ad96-123a1dcbed2a div.sk-label label {font-family: monospace;font-weight: bold;background-color: white;display: inline-block;line-height: 1.2em;}#sk-dee17724-cbad-4315-ad96-123a1dcbed2a div.sk-label-container {position: relative;z-index: 2;text-align: center;}#sk-dee17724-cbad-4315-ad96-123a1dcbed2a div.sk-container {/* jupyter's `normalize.less` sets `[hidden] { display: none; }` but bootstrap.min.css set `[hidden] { display: none !important; }` so we also need the `!important` here to be able to override the default hidden behavior on the sphinx rendered scikit-learn.org. See: https://github.com/scikit-learn/scikit-learn/issues/21755 */display: inline-block !important;position: relative;}#sk-dee17724-cbad-4315-ad96-123a1dcbed2a div.sk-text-repr-fallback {display: none;}</style><div id=\"sk-dee17724-cbad-4315-ad96-123a1dcbed2a\" class=\"sk-top-container\"><div class=\"sk-text-repr-fallback\"><pre>Pipeline(steps=[(&#x27;standardscaler&#x27;, StandardScaler()),\n",
       "                (&#x27;normalizer&#x27;, Normalizer()), (&#x27;svc&#x27;, SVC(probability=True))])</pre><b>Please rerun this cell to show the HTML repr or trust the notebook.</b></div><div class=\"sk-container\" hidden><div class=\"sk-item sk-dashed-wrapped\"><div class=\"sk-label-container\"><div class=\"sk-label sk-toggleable\"><input class=\"sk-toggleable__control sk-hidden--visually\" id=\"7fdd1313-0e7c-47bb-b14d-3f6bc28e88f8\" type=\"checkbox\" ><label for=\"7fdd1313-0e7c-47bb-b14d-3f6bc28e88f8\" class=\"sk-toggleable__label sk-toggleable__label-arrow\">Pipeline</label><div class=\"sk-toggleable__content\"><pre>Pipeline(steps=[(&#x27;standardscaler&#x27;, StandardScaler()),\n",
       "                (&#x27;normalizer&#x27;, Normalizer()), (&#x27;svc&#x27;, SVC(probability=True))])</pre></div></div></div><div class=\"sk-serial\"><div class=\"sk-item\"><div class=\"sk-estimator sk-toggleable\"><input class=\"sk-toggleable__control sk-hidden--visually\" id=\"c80366c9-0422-4778-8933-da8ac35a4aa0\" type=\"checkbox\" ><label for=\"c80366c9-0422-4778-8933-da8ac35a4aa0\" class=\"sk-toggleable__label sk-toggleable__label-arrow\">StandardScaler</label><div class=\"sk-toggleable__content\"><pre>StandardScaler()</pre></div></div></div><div class=\"sk-item\"><div class=\"sk-estimator sk-toggleable\"><input class=\"sk-toggleable__control sk-hidden--visually\" id=\"7fa5db1a-ac93-4d71-842e-46e2356a667e\" type=\"checkbox\" ><label for=\"7fa5db1a-ac93-4d71-842e-46e2356a667e\" class=\"sk-toggleable__label sk-toggleable__label-arrow\">Normalizer</label><div class=\"sk-toggleable__content\"><pre>Normalizer()</pre></div></div></div><div class=\"sk-item\"><div class=\"sk-estimator sk-toggleable\"><input class=\"sk-toggleable__control sk-hidden--visually\" id=\"a24a8983-c6f3-4f0a-9e5f-bd37df0e1e6d\" type=\"checkbox\" ><label for=\"a24a8983-c6f3-4f0a-9e5f-bd37df0e1e6d\" class=\"sk-toggleable__label sk-toggleable__label-arrow\">SVC</label><div class=\"sk-toggleable__content\"><pre>SVC(probability=True)</pre></div></div></div></div></div></div></div>"
      ],
      "text/plain": [
       "Pipeline(steps=[('standardscaler', StandardScaler()),\n",
       "                ('normalizer', Normalizer()), ('svc', SVC(probability=True))])"
      ]
     },
     "execution_count": 35,
     "metadata": {},
     "output_type": "execute_result"
    }
   ],
   "source": [
    "pipe_main"
   ]
  },
  {
   "cell_type": "code",
   "execution_count": null,
   "metadata": {},
   "outputs": [],
   "source": [
    " "
   ]
  },
  {
   "cell_type": "code",
   "execution_count": 52,
   "metadata": {},
   "outputs": [
    {
     "name": "stdout",
     "output_type": "stream",
     "text": [
      "              precision    recall  f1-score   support\n",
      "\n",
      "       canon       0.90      0.87      0.88       689\n",
      "    noncanon       0.90      0.92      0.91       899\n",
      "\n",
      "    accuracy                           0.90      1588\n",
      "   macro avg       0.90      0.89      0.90      1588\n",
      "weighted avg       0.90      0.90      0.90      1588\n",
      "\n"
     ]
    }
   ],
   "source": [
    "pipe_test, df_results_test = canonizer(df_main)"
   ]
  },
  {
   "cell_type": "code",
   "execution_count": 53,
   "metadata": {},
   "outputs": [
    {
     "data": {
      "text/html": [
       "<style>#sk-dd47763d-86fb-4415-a5cb-bbdb471bc636 {color: black;background-color: white;}#sk-dd47763d-86fb-4415-a5cb-bbdb471bc636 pre{padding: 0;}#sk-dd47763d-86fb-4415-a5cb-bbdb471bc636 div.sk-toggleable {background-color: white;}#sk-dd47763d-86fb-4415-a5cb-bbdb471bc636 label.sk-toggleable__label {cursor: pointer;display: block;width: 100%;margin-bottom: 0;padding: 0.3em;box-sizing: border-box;text-align: center;}#sk-dd47763d-86fb-4415-a5cb-bbdb471bc636 label.sk-toggleable__label-arrow:before {content: \"▸\";float: left;margin-right: 0.25em;color: #696969;}#sk-dd47763d-86fb-4415-a5cb-bbdb471bc636 label.sk-toggleable__label-arrow:hover:before {color: black;}#sk-dd47763d-86fb-4415-a5cb-bbdb471bc636 div.sk-estimator:hover label.sk-toggleable__label-arrow:before {color: black;}#sk-dd47763d-86fb-4415-a5cb-bbdb471bc636 div.sk-toggleable__content {max-height: 0;max-width: 0;overflow: hidden;text-align: left;background-color: #f0f8ff;}#sk-dd47763d-86fb-4415-a5cb-bbdb471bc636 div.sk-toggleable__content pre {margin: 0.2em;color: black;border-radius: 0.25em;background-color: #f0f8ff;}#sk-dd47763d-86fb-4415-a5cb-bbdb471bc636 input.sk-toggleable__control:checked~div.sk-toggleable__content {max-height: 200px;max-width: 100%;overflow: auto;}#sk-dd47763d-86fb-4415-a5cb-bbdb471bc636 input.sk-toggleable__control:checked~label.sk-toggleable__label-arrow:before {content: \"▾\";}#sk-dd47763d-86fb-4415-a5cb-bbdb471bc636 div.sk-estimator input.sk-toggleable__control:checked~label.sk-toggleable__label {background-color: #d4ebff;}#sk-dd47763d-86fb-4415-a5cb-bbdb471bc636 div.sk-label input.sk-toggleable__control:checked~label.sk-toggleable__label {background-color: #d4ebff;}#sk-dd47763d-86fb-4415-a5cb-bbdb471bc636 input.sk-hidden--visually {border: 0;clip: rect(1px 1px 1px 1px);clip: rect(1px, 1px, 1px, 1px);height: 1px;margin: -1px;overflow: hidden;padding: 0;position: absolute;width: 1px;}#sk-dd47763d-86fb-4415-a5cb-bbdb471bc636 div.sk-estimator {font-family: monospace;background-color: #f0f8ff;border: 1px dotted black;border-radius: 0.25em;box-sizing: border-box;margin-bottom: 0.5em;}#sk-dd47763d-86fb-4415-a5cb-bbdb471bc636 div.sk-estimator:hover {background-color: #d4ebff;}#sk-dd47763d-86fb-4415-a5cb-bbdb471bc636 div.sk-parallel-item::after {content: \"\";width: 100%;border-bottom: 1px solid gray;flex-grow: 1;}#sk-dd47763d-86fb-4415-a5cb-bbdb471bc636 div.sk-label:hover label.sk-toggleable__label {background-color: #d4ebff;}#sk-dd47763d-86fb-4415-a5cb-bbdb471bc636 div.sk-serial::before {content: \"\";position: absolute;border-left: 1px solid gray;box-sizing: border-box;top: 2em;bottom: 0;left: 50%;}#sk-dd47763d-86fb-4415-a5cb-bbdb471bc636 div.sk-serial {display: flex;flex-direction: column;align-items: center;background-color: white;padding-right: 0.2em;padding-left: 0.2em;}#sk-dd47763d-86fb-4415-a5cb-bbdb471bc636 div.sk-item {z-index: 1;}#sk-dd47763d-86fb-4415-a5cb-bbdb471bc636 div.sk-parallel {display: flex;align-items: stretch;justify-content: center;background-color: white;}#sk-dd47763d-86fb-4415-a5cb-bbdb471bc636 div.sk-parallel::before {content: \"\";position: absolute;border-left: 1px solid gray;box-sizing: border-box;top: 2em;bottom: 0;left: 50%;}#sk-dd47763d-86fb-4415-a5cb-bbdb471bc636 div.sk-parallel-item {display: flex;flex-direction: column;position: relative;background-color: white;}#sk-dd47763d-86fb-4415-a5cb-bbdb471bc636 div.sk-parallel-item:first-child::after {align-self: flex-end;width: 50%;}#sk-dd47763d-86fb-4415-a5cb-bbdb471bc636 div.sk-parallel-item:last-child::after {align-self: flex-start;width: 50%;}#sk-dd47763d-86fb-4415-a5cb-bbdb471bc636 div.sk-parallel-item:only-child::after {width: 0;}#sk-dd47763d-86fb-4415-a5cb-bbdb471bc636 div.sk-dashed-wrapped {border: 1px dashed gray;margin: 0 0.4em 0.5em 0.4em;box-sizing: border-box;padding-bottom: 0.4em;background-color: white;position: relative;}#sk-dd47763d-86fb-4415-a5cb-bbdb471bc636 div.sk-label label {font-family: monospace;font-weight: bold;background-color: white;display: inline-block;line-height: 1.2em;}#sk-dd47763d-86fb-4415-a5cb-bbdb471bc636 div.sk-label-container {position: relative;z-index: 2;text-align: center;}#sk-dd47763d-86fb-4415-a5cb-bbdb471bc636 div.sk-container {/* jupyter's `normalize.less` sets `[hidden] { display: none; }` but bootstrap.min.css set `[hidden] { display: none !important; }` so we also need the `!important` here to be able to override the default hidden behavior on the sphinx rendered scikit-learn.org. See: https://github.com/scikit-learn/scikit-learn/issues/21755 */display: inline-block !important;position: relative;}#sk-dd47763d-86fb-4415-a5cb-bbdb471bc636 div.sk-text-repr-fallback {display: none;}</style><div id=\"sk-dd47763d-86fb-4415-a5cb-bbdb471bc636\" class=\"sk-top-container\"><div class=\"sk-text-repr-fallback\"><pre>Pipeline(steps=[(&#x27;standardscaler&#x27;, StandardScaler()),\n",
       "                (&#x27;svc&#x27;, SVC(probability=True))])</pre><b>Please rerun this cell to show the HTML repr or trust the notebook.</b></div><div class=\"sk-container\" hidden><div class=\"sk-item sk-dashed-wrapped\"><div class=\"sk-label-container\"><div class=\"sk-label sk-toggleable\"><input class=\"sk-toggleable__control sk-hidden--visually\" id=\"c35e66b6-51f3-491e-a042-4a1def44a018\" type=\"checkbox\" ><label for=\"c35e66b6-51f3-491e-a042-4a1def44a018\" class=\"sk-toggleable__label sk-toggleable__label-arrow\">Pipeline</label><div class=\"sk-toggleable__content\"><pre>Pipeline(steps=[(&#x27;standardscaler&#x27;, StandardScaler()),\n",
       "                (&#x27;svc&#x27;, SVC(probability=True))])</pre></div></div></div><div class=\"sk-serial\"><div class=\"sk-item\"><div class=\"sk-estimator sk-toggleable\"><input class=\"sk-toggleable__control sk-hidden--visually\" id=\"2f2e4a75-b01f-4fee-b3f9-892541922225\" type=\"checkbox\" ><label for=\"2f2e4a75-b01f-4fee-b3f9-892541922225\" class=\"sk-toggleable__label sk-toggleable__label-arrow\">StandardScaler</label><div class=\"sk-toggleable__content\"><pre>StandardScaler()</pre></div></div></div><div class=\"sk-item\"><div class=\"sk-estimator sk-toggleable\"><input class=\"sk-toggleable__control sk-hidden--visually\" id=\"9edf4055-274e-4e96-b872-1555f34d7d50\" type=\"checkbox\" ><label for=\"9edf4055-274e-4e96-b872-1555f34d7d50\" class=\"sk-toggleable__label sk-toggleable__label-arrow\">SVC</label><div class=\"sk-toggleable__content\"><pre>SVC(probability=True)</pre></div></div></div></div></div></div></div>"
      ],
      "text/plain": [
       "Pipeline(steps=[('standardscaler', StandardScaler()),\n",
       "                ('svc', SVC(probability=True))])"
      ]
     },
     "execution_count": 53,
     "metadata": {},
     "output_type": "execute_result"
    }
   ],
   "source": [
    "pipe_test"
   ]
  },
  {
   "cell_type": "code",
   "execution_count": null,
   "metadata": {},
   "outputs": [],
   "source": []
  },
  {
   "cell_type": "markdown",
   "metadata": {},
   "source": [
    "# LDA features "
   ]
  },
  {
   "cell_type": "code",
   "execution_count": null,
   "metadata": {},
   "outputs": [],
   "source": []
  },
  {
   "cell_type": "markdown",
   "metadata": {},
   "source": [
    "# DBoW neural embeddings features "
   ]
  },
  {
   "cell_type": "code",
   "execution_count": null,
   "metadata": {},
   "outputs": [],
   "source": []
  }
 ],
 "metadata": {
  "kernelspec": {
   "display_name": "Python 3",
   "language": "python",
   "name": "python3"
  },
  "language_info": {
   "codemirror_mode": {
    "name": "ipython",
    "version": 3
   },
   "file_extension": ".py",
   "mimetype": "text/x-python",
   "name": "python",
   "nbconvert_exporter": "python",
   "pygments_lexer": "ipython3",
   "version": "3.8.3"
  }
 },
 "nbformat": 4,
 "nbformat_minor": 4
}
